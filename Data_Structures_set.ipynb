{
  "nbformat": 4,
  "nbformat_minor": 0,
  "metadata": {
    "colab": {
      "provenance": [],
      "authorship_tag": "ABX9TyN16qiX3keN9f4u0mPaGJ3m",
      "include_colab_link": true
    },
    "kernelspec": {
      "name": "python3",
      "display_name": "Python 3"
    },
    "language_info": {
      "name": "python"
    }
  },
  "cells": [
    {
      "cell_type": "markdown",
      "metadata": {
        "id": "view-in-github",
        "colab_type": "text"
      },
      "source": [
        "<a href=\"https://colab.research.google.com/github/Ranjith5720/Python/blob/main/Data_Structures_set.ipynb\" target=\"_parent\"><img src=\"https://colab.research.google.com/assets/colab-badge.svg\" alt=\"Open In Colab\"/></a>"
      ]
    },
    {
      "cell_type": "markdown",
      "source": [
        "### **Set**\n",
        "**Syntax :**\n",
        "{ values }\n",
        "- Set is enclosed within curly brackets.\n",
        "- Elements are written as comma separated.\n"
      ],
      "metadata": {
        "id": "PNWOGhEtJ-fI"
      }
    },
    {
      "cell_type": "code",
      "execution_count": 4,
      "metadata": {
        "colab": {
          "base_uri": "https://localhost:8080/"
        },
        "id": "PgVMflWQJ1v1",
        "outputId": "29ebf787-bedc-4e6d-e49b-b5d1c6f5edd4"
      },
      "outputs": [
        {
          "output_type": "execute_result",
          "data": {
            "text/plain": [
              "dict"
            ]
          },
          "metadata": {},
          "execution_count": 4
        }
      ],
      "source": [
        "a = {} # Empty set is not possible\n",
        "type(a)"
      ]
    },
    {
      "cell_type": "code",
      "source": [
        "b = {9 , 5.3 , \"Ranjith\" , True, 9-6j} # Set accept the all data types\n",
        "b # Unorder"
      ],
      "metadata": {
        "colab": {
          "base_uri": "https://localhost:8080/"
        },
        "id": "1fq58FEqL1YR",
        "outputId": "010d9c5b-de2b-4efe-94b1-26be93bfc3d4"
      },
      "execution_count": 5,
      "outputs": [
        {
          "output_type": "execute_result",
          "data": {
            "text/plain": [
              "{(9-6j), 5.3, 9, 'Ranjith', True}"
            ]
          },
          "metadata": {},
          "execution_count": 5
        }
      ]
    },
    {
      "cell_type": "code",
      "source": [
        "b[4] # Indexing is not possile"
      ],
      "metadata": {
        "colab": {
          "base_uri": "https://localhost:8080/",
          "height": 175
        },
        "id": "-EvOT84pMQ02",
        "outputId": "6a3b0392-1f12-4d10-bfd5-1f45fcd70ad1"
      },
      "execution_count": 6,
      "outputs": [
        {
          "output_type": "error",
          "ename": "TypeError",
          "evalue": "ignored",
          "traceback": [
            "\u001b[0;31m---------------------------------------------------------------------------\u001b[0m",
            "\u001b[0;31mTypeError\u001b[0m                                 Traceback (most recent call last)",
            "\u001b[0;32m<ipython-input-6-799fa5d88a74>\u001b[0m in \u001b[0;36m<cell line: 1>\u001b[0;34m()\u001b[0m\n\u001b[0;32m----> 1\u001b[0;31m \u001b[0mb\u001b[0m\u001b[0;34m[\u001b[0m\u001b[0;36m4\u001b[0m\u001b[0;34m]\u001b[0m \u001b[0;31m# Indexing is not possile\u001b[0m\u001b[0;34m\u001b[0m\u001b[0;34m\u001b[0m\u001b[0m\n\u001b[0m",
            "\u001b[0;31mTypeError\u001b[0m: 'set' object is not subscriptable"
          ]
        }
      ]
    },
    {
      "cell_type": "code",
      "source": [
        "b1 = {[12,32,4.4,2,2],2,6} # Set does not accept any data structures"
      ],
      "metadata": {
        "colab": {
          "base_uri": "https://localhost:8080/",
          "height": 175
        },
        "id": "VN6pwx6AZaqg",
        "outputId": "d1ebca9a-59e3-4a7d-ef7c-652cc317d733"
      },
      "execution_count": 28,
      "outputs": [
        {
          "output_type": "error",
          "ename": "TypeError",
          "evalue": "ignored",
          "traceback": [
            "\u001b[0;31m---------------------------------------------------------------------------\u001b[0m",
            "\u001b[0;31mTypeError\u001b[0m                                 Traceback (most recent call last)",
            "\u001b[0;32m<ipython-input-28-60028a65d20a>\u001b[0m in \u001b[0;36m<cell line: 1>\u001b[0;34m()\u001b[0m\n\u001b[0;32m----> 1\u001b[0;31m \u001b[0mb1\u001b[0m \u001b[0;34m=\u001b[0m \u001b[0;34m{\u001b[0m\u001b[0;34m[\u001b[0m\u001b[0;36m12\u001b[0m\u001b[0;34m,\u001b[0m\u001b[0;36m32\u001b[0m\u001b[0;34m,\u001b[0m\u001b[0;36m4.4\u001b[0m\u001b[0;34m,\u001b[0m\u001b[0;36m2\u001b[0m\u001b[0;34m,\u001b[0m\u001b[0;36m2\u001b[0m\u001b[0;34m]\u001b[0m\u001b[0;34m,\u001b[0m\u001b[0;36m2\u001b[0m\u001b[0;34m,\u001b[0m\u001b[0;36m6\u001b[0m\u001b[0;34m}\u001b[0m \u001b[0;31m# Set does not accept any data structures\u001b[0m\u001b[0;34m\u001b[0m\u001b[0;34m\u001b[0m\u001b[0m\n\u001b[0m",
            "\u001b[0;31mTypeError\u001b[0m: unhashable type: 'list'"
          ]
        }
      ]
    },
    {
      "cell_type": "code",
      "source": [
        "c = {3, 5.5, 6, 2, 8, 2, 5, 9, 9, 19} # Set can't accept the duplicate values\n",
        "c"
      ],
      "metadata": {
        "colab": {
          "base_uri": "https://localhost:8080/"
        },
        "id": "y7hdzTrUNNQ-",
        "outputId": "200471d5-099a-4168-96e2-2c18b6fa2e52"
      },
      "execution_count": 7,
      "outputs": [
        {
          "output_type": "execute_result",
          "data": {
            "text/plain": [
              "{2, 3, 5, 5.5, 6, 8, 9, 19}"
            ]
          },
          "metadata": {},
          "execution_count": 7
        }
      ]
    },
    {
      "cell_type": "code",
      "source": [
        "len(c) # Set is countable, without duplicate values"
      ],
      "metadata": {
        "colab": {
          "base_uri": "https://localhost:8080/"
        },
        "id": "YbLVwXQsQ1Ii",
        "outputId": "cfa0b7b7-c16c-41d6-c9af-26bb073509df"
      },
      "execution_count": 8,
      "outputs": [
        {
          "output_type": "execute_result",
          "data": {
            "text/plain": [
              "8"
            ]
          },
          "metadata": {},
          "execution_count": 8
        }
      ]
    },
    {
      "cell_type": "code",
      "source": [
        "c.add(\"Ranjith\") # can add a new value in set using add()\n",
        "c"
      ],
      "metadata": {
        "colab": {
          "base_uri": "https://localhost:8080/"
        },
        "id": "_TdW06ryM7pG",
        "outputId": "eb455bfa-8057-43a1-ce63-2d440015473e"
      },
      "execution_count": 9,
      "outputs": [
        {
          "output_type": "execute_result",
          "data": {
            "text/plain": [
              "{19, 2, 3, 5, 5.5, 6, 8, 9, 'Ranjith'}"
            ]
          },
          "metadata": {},
          "execution_count": 9
        }
      ]
    },
    {
      "cell_type": "code",
      "source": [
        "c.remove(5) # can remove the value in set using remove()\n",
        "c"
      ],
      "metadata": {
        "colab": {
          "base_uri": "https://localhost:8080/"
        },
        "id": "pQM5YE9SQXej",
        "outputId": "47c5ff55-6494-401d-c898-65f442eeb966"
      },
      "execution_count": 10,
      "outputs": [
        {
          "output_type": "execute_result",
          "data": {
            "text/plain": [
              "{19, 2, 3, 5.5, 6, 8, 9, 'Ranjith'}"
            ]
          },
          "metadata": {},
          "execution_count": 10
        }
      ]
    },
    {
      "cell_type": "code",
      "source": [
        "c.pop() # Remove the value in set using pop()\n",
        "c"
      ],
      "metadata": {
        "colab": {
          "base_uri": "https://localhost:8080/"
        },
        "id": "ggLp9hMZTqQo",
        "outputId": "79408c5e-764b-4859-95e6-ab692e6d04e7"
      },
      "execution_count": 11,
      "outputs": [
        {
          "output_type": "execute_result",
          "data": {
            "text/plain": [
              "{19, 3, 5.5, 6, 8, 9, 'Ranjith'}"
            ]
          },
          "metadata": {},
          "execution_count": 11
        }
      ]
    },
    {
      "cell_type": "markdown",
      "source": [
        "### **Set Oprations**\n",
        "- union( | )\n",
        "- intersection( & )\n",
        "- difference( - )\n",
        "- symmetric difference( ^ )"
      ],
      "metadata": {
        "id": "uNKweZl_Vonz"
      }
    },
    {
      "cell_type": "code",
      "source": [
        "x = {5, \"Ranjith\", 8.3, 5, True, \"Prem\", 9-2j, 2, \"Prem\"}\n",
        "x"
      ],
      "metadata": {
        "colab": {
          "base_uri": "https://localhost:8080/"
        },
        "id": "-mBHGQYmVeuR",
        "outputId": "12fee34e-2ac3-4c68-cf57-287ac4cb1c88"
      },
      "execution_count": 12,
      "outputs": [
        {
          "output_type": "execute_result",
          "data": {
            "text/plain": [
              "{(9-2j), 2, 5, 8.3, 'Prem', 'Ranjith', True}"
            ]
          },
          "metadata": {},
          "execution_count": 12
        }
      ]
    },
    {
      "cell_type": "code",
      "source": [
        "y = {3, 4, 6.5, \"Tamil\", \"Bala\", 3, 5, \"Ranjith\", 2, 8.3}\n",
        "y"
      ],
      "metadata": {
        "colab": {
          "base_uri": "https://localhost:8080/"
        },
        "id": "tcbwbEXeYGas",
        "outputId": "f7121587-1d6a-40ec-b859-d903c0d05511"
      },
      "execution_count": 13,
      "outputs": [
        {
          "output_type": "execute_result",
          "data": {
            "text/plain": [
              "{2, 3, 4, 5, 6.5, 8.3, 'Bala', 'Ranjith', 'Tamil'}"
            ]
          },
          "metadata": {},
          "execution_count": 13
        }
      ]
    },
    {
      "cell_type": "markdown",
      "source": [
        "### **Union**"
      ],
      "metadata": {
        "id": "M0dlKEi5dffh"
      }
    },
    {
      "cell_type": "code",
      "source": [
        "# union (Merging or add two sets)\n",
        "\n",
        "x | y # Merge x & y"
      ],
      "metadata": {
        "colab": {
          "base_uri": "https://localhost:8080/"
        },
        "id": "nH47y1rXYIL_",
        "outputId": "2f96b185-06d5-4e96-e27e-b7cc778708d9"
      },
      "execution_count": 14,
      "outputs": [
        {
          "output_type": "execute_result",
          "data": {
            "text/plain": [
              "{(9-2j), 2, 3, 4, 5, 6.5, 8.3, 'Bala', 'Prem', 'Ranjith', 'Tamil', True}"
            ]
          },
          "metadata": {},
          "execution_count": 14
        }
      ]
    },
    {
      "cell_type": "code",
      "source": [
        "print(x | y)"
      ],
      "metadata": {
        "colab": {
          "base_uri": "https://localhost:8080/"
        },
        "id": "RzZxpmlPbfAO",
        "outputId": "8787642b-6c52-4c35-afdc-2fafabe67b8d"
      },
      "execution_count": 15,
      "outputs": [
        {
          "output_type": "stream",
          "name": "stdout",
          "text": [
            "{True, 2, (9-2j), 'Bala', 5, 'Ranjith', 3, 8.3, 4, 6.5, 'Prem', 'Tamil'}\n"
          ]
        }
      ]
    },
    {
      "cell_type": "code",
      "source": [
        "x.union(y)"
      ],
      "metadata": {
        "colab": {
          "base_uri": "https://localhost:8080/"
        },
        "id": "2vEyyPJQbmGT",
        "outputId": "377da010-bb2e-4f88-f363-265a8735ebe0"
      },
      "execution_count": 16,
      "outputs": [
        {
          "output_type": "execute_result",
          "data": {
            "text/plain": [
              "{(9-2j), 2, 3, 4, 5, 6.5, 8.3, 'Bala', 'Prem', 'Ranjith', 'Tamil', True}"
            ]
          },
          "metadata": {},
          "execution_count": 16
        }
      ]
    },
    {
      "cell_type": "markdown",
      "source": [
        "### **Intersection**"
      ],
      "metadata": {
        "id": "ot4KpLfSeAlW"
      }
    },
    {
      "cell_type": "code",
      "source": [
        "# intersection (Common values)\n",
        "\n",
        "x & y # common values in x & y"
      ],
      "metadata": {
        "colab": {
          "base_uri": "https://localhost:8080/"
        },
        "id": "J1z1N4v5YdPr",
        "outputId": "4e48e67f-7705-4291-e5ae-350ad3d59e2e"
      },
      "execution_count": 17,
      "outputs": [
        {
          "output_type": "execute_result",
          "data": {
            "text/plain": [
              "{2, 5, 8.3, 'Ranjith'}"
            ]
          },
          "metadata": {},
          "execution_count": 17
        }
      ]
    },
    {
      "cell_type": "code",
      "source": [
        "print(x & y)"
      ],
      "metadata": {
        "colab": {
          "base_uri": "https://localhost:8080/"
        },
        "id": "nKJIZuXIcurd",
        "outputId": "2f89b768-5a87-4fcf-d060-244351c71982"
      },
      "execution_count": 18,
      "outputs": [
        {
          "output_type": "stream",
          "name": "stdout",
          "text": [
            "{8.3, 2, 5, 'Ranjith'}\n"
          ]
        }
      ]
    },
    {
      "cell_type": "code",
      "source": [
        "x.intersection(y)"
      ],
      "metadata": {
        "colab": {
          "base_uri": "https://localhost:8080/"
        },
        "id": "Jr7EI0x3c29L",
        "outputId": "a366f4ed-6537-477c-cbd9-e9935183dee2"
      },
      "execution_count": 19,
      "outputs": [
        {
          "output_type": "execute_result",
          "data": {
            "text/plain": [
              "{2, 5, 8.3, 'Ranjith'}"
            ]
          },
          "metadata": {},
          "execution_count": 19
        }
      ]
    },
    {
      "cell_type": "markdown",
      "source": [
        "### **Difference**\n"
      ],
      "metadata": {
        "id": "ZhdG53_VeTJq"
      }
    },
    {
      "cell_type": "code",
      "source": [
        "# difference (Remove the another set items)\n",
        "\n",
        "x - y # remove the y values in x"
      ],
      "metadata": {
        "colab": {
          "base_uri": "https://localhost:8080/"
        },
        "id": "GZAwgP2JdKaC",
        "outputId": "de6c521a-77d0-45d9-9abe-619a67acff7f"
      },
      "execution_count": 20,
      "outputs": [
        {
          "output_type": "execute_result",
          "data": {
            "text/plain": [
              "{(9-2j), 'Prem', True}"
            ]
          },
          "metadata": {},
          "execution_count": 20
        }
      ]
    },
    {
      "cell_type": "code",
      "source": [
        "print(x - y)"
      ],
      "metadata": {
        "colab": {
          "base_uri": "https://localhost:8080/"
        },
        "id": "yY55dYN-edTa",
        "outputId": "4b5b108c-5c64-4913-b6b4-0ee9afec6eb2"
      },
      "execution_count": 21,
      "outputs": [
        {
          "output_type": "stream",
          "name": "stdout",
          "text": [
            "{True, 'Prem', (9-2j)}\n"
          ]
        }
      ]
    },
    {
      "cell_type": "code",
      "source": [
        "x.difference(y) # x - y"
      ],
      "metadata": {
        "colab": {
          "base_uri": "https://localhost:8080/"
        },
        "id": "nDTsWajwek7C",
        "outputId": "648c19e6-51d9-44c2-abd0-f5a988543b89"
      },
      "execution_count": 22,
      "outputs": [
        {
          "output_type": "execute_result",
          "data": {
            "text/plain": [
              "{(9-2j), 'Prem', True}"
            ]
          },
          "metadata": {},
          "execution_count": 22
        }
      ]
    },
    {
      "cell_type": "code",
      "source": [
        "y - x # remove x values in y"
      ],
      "metadata": {
        "colab": {
          "base_uri": "https://localhost:8080/"
        },
        "id": "fFPh4ic2Aq1I",
        "outputId": "919f743b-bf5e-4880-e098-6e0377784a45"
      },
      "execution_count": 23,
      "outputs": [
        {
          "output_type": "execute_result",
          "data": {
            "text/plain": [
              "{3, 4, 6.5, 'Bala', 'Tamil'}"
            ]
          },
          "metadata": {},
          "execution_count": 23
        }
      ]
    },
    {
      "cell_type": "code",
      "source": [
        "y.difference(x) # y - x"
      ],
      "metadata": {
        "colab": {
          "base_uri": "https://localhost:8080/"
        },
        "id": "nOJiJtZzew7Y",
        "outputId": "4835e17f-06b7-4414-cc08-e9134ccfdbe4"
      },
      "execution_count": 24,
      "outputs": [
        {
          "output_type": "execute_result",
          "data": {
            "text/plain": [
              "{3, 4, 6.5, 'Bala', 'Tamil'}"
            ]
          },
          "metadata": {},
          "execution_count": 24
        }
      ]
    },
    {
      "cell_type": "markdown",
      "source": [
        "### **Symmetric difference**"
      ],
      "metadata": {
        "id": "7bz6pDucfAlc"
      }
    },
    {
      "cell_type": "code",
      "source": [
        "# symmetric difference (Remove the common values in sets)\n",
        "\n",
        "x ^ y # remove the common values in x & Y and print the remaining values"
      ],
      "metadata": {
        "colab": {
          "base_uri": "https://localhost:8080/"
        },
        "id": "GgLaprqAe08n",
        "outputId": "aaa5ac14-c7f2-48d0-cfc5-dbe5bfbebf21"
      },
      "execution_count": 25,
      "outputs": [
        {
          "output_type": "execute_result",
          "data": {
            "text/plain": [
              "{(9-2j), 3, 4, 6.5, 'Bala', 'Prem', 'Tamil', True}"
            ]
          },
          "metadata": {},
          "execution_count": 25
        }
      ]
    },
    {
      "cell_type": "code",
      "source": [
        "print(x ^ y)"
      ],
      "metadata": {
        "colab": {
          "base_uri": "https://localhost:8080/"
        },
        "id": "uP4a6NS5fM3D",
        "outputId": "792066d3-3187-469b-f81e-53ddac3524a7"
      },
      "execution_count": 26,
      "outputs": [
        {
          "output_type": "stream",
          "name": "stdout",
          "text": [
            "{'Bala', 3, 4, 6.5, True, (9-2j), 'Prem', 'Tamil'}\n"
          ]
        }
      ]
    },
    {
      "cell_type": "code",
      "source": [
        "y ^ x # remove the common values in y & x and print the remaining values"
      ],
      "metadata": {
        "colab": {
          "base_uri": "https://localhost:8080/"
        },
        "id": "XMao-WRafVlV",
        "outputId": "eb37fab1-b5b5-4c25-8e94-cdbe95f33bf3"
      },
      "execution_count": 27,
      "outputs": [
        {
          "output_type": "execute_result",
          "data": {
            "text/plain": [
              "{(9-2j), 3, 4, 6.5, 'Bala', 'Prem', 'Tamil', True}"
            ]
          },
          "metadata": {},
          "execution_count": 27
        }
      ]
    }
  ]
}