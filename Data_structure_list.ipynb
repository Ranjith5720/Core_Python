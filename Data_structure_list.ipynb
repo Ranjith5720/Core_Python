{
  "nbformat": 4,
  "nbformat_minor": 0,
  "metadata": {
    "colab": {
      "provenance": [],
      "authorship_tag": "ABX9TyMtzXODy6xcwXcJXB/uU5GU",
      "include_colab_link": true
    },
    "kernelspec": {
      "name": "python3",
      "display_name": "Python 3"
    },
    "language_info": {
      "name": "python"
    }
  },
  "cells": [
    {
      "cell_type": "markdown",
      "metadata": {
        "id": "view-in-github",
        "colab_type": "text"
      },
      "source": [
        "<a href=\"https://colab.research.google.com/github/Ranjith5720/Python/blob/main/Data_structure_list.ipynb\" target=\"_parent\"><img src=\"https://colab.research.google.com/assets/colab-badge.svg\" alt=\"Open In Colab\"/></a>"
      ]
    },
    {
      "cell_type": "markdown",
      "source": [
        "### **List**\n",
        "* List is a collection of order sequence elements.\n",
        "* It is Mutable or changeable.\n",
        "* The values between square brackets [ ]."
      ],
      "metadata": {
        "id": "eqWIcA3WCzbp"
      }
    },
    {
      "cell_type": "code",
      "execution_count": null,
      "metadata": {
        "colab": {
          "base_uri": "https://localhost:8080/"
        },
        "id": "P-QlO3S0CIvU",
        "outputId": "2aa66f59-d684-44e0-e594-6786fc6ef273"
      },
      "outputs": [
        {
          "output_type": "execute_result",
          "data": {
            "text/plain": [
              "list"
            ]
          },
          "metadata": {},
          "execution_count": 2
        }
      ],
      "source": [
        "a = [] # Empty list is possible\n",
        "type(a)"
      ]
    },
    {
      "cell_type": "code",
      "source": [
        "b = [53,55.2,\"Ranjith\",True,5+3j] # List accept the all data types\n",
        "b"
      ],
      "metadata": {
        "colab": {
          "base_uri": "https://localhost:8080/"
        },
        "id": "xFL8R2YEFlta",
        "outputId": "1a90c2ce-d9a4-4c97-85f7-bc2f9d2a6d14"
      },
      "execution_count": null,
      "outputs": [
        {
          "output_type": "execute_result",
          "data": {
            "text/plain": [
              "[53, 55.2, 'Ranjith', True, (5+3j)]"
            ]
          },
          "metadata": {},
          "execution_count": 3
        }
      ]
    },
    {
      "cell_type": "code",
      "source": [
        "len(b) # List is countable"
      ],
      "metadata": {
        "colab": {
          "base_uri": "https://localhost:8080/"
        },
        "id": "6HSeWNQ8GJ8Z",
        "outputId": "48d7e9e1-5e65-4ee2-c13c-b66b0aa56062"
      },
      "execution_count": null,
      "outputs": [
        {
          "output_type": "execute_result",
          "data": {
            "text/plain": [
              "5"
            ]
          },
          "metadata": {},
          "execution_count": 4
        }
      ]
    },
    {
      "cell_type": "code",
      "source": [
        "b[3] # List is indexable"
      ],
      "metadata": {
        "colab": {
          "base_uri": "https://localhost:8080/"
        },
        "id": "Pc6ZXbmpGVDI",
        "outputId": "bdb78d9f-9ef8-4d3c-9646-021792d6a0b4"
      },
      "execution_count": null,
      "outputs": [
        {
          "output_type": "execute_result",
          "data": {
            "text/plain": [
              "True"
            ]
          },
          "metadata": {},
          "execution_count": 6
        }
      ]
    },
    {
      "cell_type": "code",
      "source": [
        "b[1:4] # Slicing"
      ],
      "metadata": {
        "colab": {
          "base_uri": "https://localhost:8080/"
        },
        "id": "RSqf6YlQGtsc",
        "outputId": "b3812778-747b-4b64-9ea8-e6456e319d40"
      },
      "execution_count": null,
      "outputs": [
        {
          "output_type": "execute_result",
          "data": {
            "text/plain": [
              "[55.2, 'Ranjith', True]"
            ]
          },
          "metadata": {},
          "execution_count": 8
        }
      ]
    },
    {
      "cell_type": "code",
      "source": [
        "b[\"Ranjith\"] # can't call the values"
      ],
      "metadata": {
        "colab": {
          "base_uri": "https://localhost:8080/",
          "height": 175
        },
        "id": "EWHOHC3RH0xn",
        "outputId": "a593ae52-4d24-4f86-daae-bcf8e4b7424c"
      },
      "execution_count": null,
      "outputs": [
        {
          "output_type": "error",
          "ename": "TypeError",
          "evalue": "ignored",
          "traceback": [
            "\u001b[0;31m---------------------------------------------------------------------------\u001b[0m",
            "\u001b[0;31mTypeError\u001b[0m                                 Traceback (most recent call last)",
            "\u001b[0;32m<ipython-input-10-b4c5183cc224>\u001b[0m in \u001b[0;36m<cell line: 1>\u001b[0;34m()\u001b[0m\n\u001b[0;32m----> 1\u001b[0;31m \u001b[0mb\u001b[0m\u001b[0;34m[\u001b[0m\u001b[0;34m\"Ranjith\"\u001b[0m\u001b[0;34m]\u001b[0m \u001b[0;31m# can't call the items\u001b[0m\u001b[0;34m\u001b[0m\u001b[0;34m\u001b[0m\u001b[0m\n\u001b[0m",
            "\u001b[0;31mTypeError\u001b[0m: list indices must be integers or slices, not str"
          ]
        }
      ]
    },
    {
      "cell_type": "code",
      "source": [
        "c = [2,5,4.3,\"Ranjith\",True,2+3j,\"Ranjith\",2,False,5] # List accept the duplicate values\n",
        "c"
      ],
      "metadata": {
        "colab": {
          "base_uri": "https://localhost:8080/"
        },
        "id": "8DddeWKgG8ao",
        "outputId": "798616a3-78b7-4c70-eb94-47f16a0e7630"
      },
      "execution_count": null,
      "outputs": [
        {
          "output_type": "execute_result",
          "data": {
            "text/plain": [
              "[2, 5, 4.3, 'Ranjith', True, (2+3j), 'Ranjith', 2, False, 5]"
            ]
          },
          "metadata": {},
          "execution_count": 11
        }
      ]
    },
    {
      "cell_type": "markdown",
      "source": [
        "**Add a value to list**\n",
        "* append( ) - add a value at last index\n",
        "* extend( ) - structure breaker\n",
        "* insert( ) - insert the value in specific index"
      ],
      "metadata": {
        "id": "x-w2R71kIkh8"
      }
    },
    {
      "cell_type": "markdown",
      "source": [
        "### append( )\n",
        "* we can add the all data types (int, float, str, bool, complex) at last index\n",
        "* we can add same and other data structures (list, dict, set, tuple) at last index"
      ],
      "metadata": {
        "id": "SpmaiYE8NnWx"
      }
    },
    {
      "cell_type": "code",
      "source": [
        "x = [\"Ranjith\",23,\"Ariyalur\"]\n",
        "x"
      ],
      "metadata": {
        "colab": {
          "base_uri": "https://localhost:8080/"
        },
        "id": "D1-hKMEWIOtY",
        "outputId": "281a8ccd-1a43-4423-b06e-98b013523fe7"
      },
      "execution_count": null,
      "outputs": [
        {
          "output_type": "execute_result",
          "data": {
            "text/plain": [
              "['Ranjith', 23, 'Ariyalur']"
            ]
          },
          "metadata": {},
          "execution_count": 13
        }
      ]
    },
    {
      "cell_type": "code",
      "source": [
        "x.append(\"M.sc\") # add a value at last index\n",
        "x"
      ],
      "metadata": {
        "colab": {
          "base_uri": "https://localhost:8080/"
        },
        "id": "D7dWfzdSKY7y",
        "outputId": "ad708d85-d568-45f9-cc35-2b8a4ddedf57"
      },
      "execution_count": null,
      "outputs": [
        {
          "output_type": "execute_result",
          "data": {
            "text/plain": [
              "['Ranjith', 23, 'Ariyalur', 'M.sc']"
            ]
          },
          "metadata": {},
          "execution_count": 14
        }
      ]
    },
    {
      "cell_type": "code",
      "source": [
        "x.append([23,5.2,True]) # Add a list in the list is possible\n",
        "x"
      ],
      "metadata": {
        "colab": {
          "base_uri": "https://localhost:8080/"
        },
        "id": "NeWzL2htLcPX",
        "outputId": "6e43d3e0-b3c1-441c-a06c-f5f79cfeb60c"
      },
      "execution_count": null,
      "outputs": [
        {
          "output_type": "execute_result",
          "data": {
            "text/plain": [
              "['Ranjith', 23, 'Ariyalur', 'M.sc', [23, 5.2, True]]"
            ]
          },
          "metadata": {},
          "execution_count": 19
        }
      ]
    },
    {
      "cell_type": "code",
      "source": [
        "x.append((1,3,5)) # Add a tuple in the list is possible\n",
        "x"
      ],
      "metadata": {
        "colab": {
          "base_uri": "https://localhost:8080/"
        },
        "id": "uE14D2_2Lpj9",
        "outputId": "f3c73f91-8bd8-46b4-a1c8-9e8fedc0a4ef"
      },
      "execution_count": null,
      "outputs": [
        {
          "output_type": "execute_result",
          "data": {
            "text/plain": [
              "['Ranjith', 23, 'Ariyalur', 'M.sc', [23, 5.2, True], (1, 3, 5)]"
            ]
          },
          "metadata": {},
          "execution_count": 28
        }
      ]
    },
    {
      "cell_type": "code",
      "source": [
        "x.append({1,2,3,4,5}) # Add a set in the list is possible\n",
        "x"
      ],
      "metadata": {
        "colab": {
          "base_uri": "https://localhost:8080/"
        },
        "id": "VqQzmSfEM3Km",
        "outputId": "90712194-ab24-45af-c1ab-3a922e5f9b2c"
      },
      "execution_count": null,
      "outputs": [
        {
          "output_type": "execute_result",
          "data": {
            "text/plain": [
              "['Ranjith',\n",
              " 23,\n",
              " 'Ariyalur',\n",
              " 'M.sc',\n",
              " [23, 5.2, True],\n",
              " (1, 3, 5),\n",
              " {1, 2, 3, 4, 5}]"
            ]
          },
          "metadata": {},
          "execution_count": 29
        }
      ]
    },
    {
      "cell_type": "code",
      "source": [
        "x.append({1:\"a\",2:\"b\"}) # Add a dict in the list is possible\n",
        "x"
      ],
      "metadata": {
        "colab": {
          "base_uri": "https://localhost:8080/"
        },
        "id": "tHWvJzJUNQYj",
        "outputId": "3ec9ee07-a324-496c-e062-8e486f9fcc16"
      },
      "execution_count": null,
      "outputs": [
        {
          "output_type": "execute_result",
          "data": {
            "text/plain": [
              "['Ranjith',\n",
              " 23,\n",
              " 'Ariyalur',\n",
              " 'M.sc',\n",
              " [23, 5.2, True],\n",
              " (1, 3, 5),\n",
              " {1, 2, 3, 4, 5},\n",
              " {1: 'a', 2: 'b'}]"
            ]
          },
          "metadata": {},
          "execution_count": 30
        }
      ]
    },
    {
      "cell_type": "markdown",
      "source": [
        "### extend( )\n",
        "* str data type is worked.\n",
        "* other data types (int, float, bool, complex) are not worked for directly applying. It's worked for put the any structure or container."
      ],
      "metadata": {
        "id": "iDmqPvrNN21j"
      }
    },
    {
      "cell_type": "code",
      "source": [
        "y = [\"Ranjith\",5,\"Prem\",98.342,39-54j]\n",
        "y"
      ],
      "metadata": {
        "colab": {
          "base_uri": "https://localhost:8080/"
        },
        "id": "ddllVkoWN99S",
        "outputId": "1486b120-93c8-4db8-b09d-967ff2e66362"
      },
      "execution_count": 1,
      "outputs": [
        {
          "output_type": "execute_result",
          "data": {
            "text/plain": [
              "['Ranjith', 5, 'Prem', 98.342, (39-54j)]"
            ]
          },
          "metadata": {},
          "execution_count": 1
        }
      ]
    },
    {
      "cell_type": "code",
      "source": [
        "y.extend(\"abc\") # break the string, separate the values and add to the list\n",
        "y"
      ],
      "metadata": {
        "colab": {
          "base_uri": "https://localhost:8080/"
        },
        "id": "QJEuKXIuN95e",
        "outputId": "0d91956d-38b8-4354-a670-ba23e8d7b02b"
      },
      "execution_count": 2,
      "outputs": [
        {
          "output_type": "execute_result",
          "data": {
            "text/plain": [
              "['Ranjith', 5, 'Prem', 98.342, (39-54j), 'a', 'b', 'c']"
            ]
          },
          "metadata": {},
          "execution_count": 2
        }
      ]
    },
    {
      "cell_type": "code",
      "source": [
        "y.extend(234) # int value does not breakable, it's not work\n",
        "y"
      ],
      "metadata": {
        "colab": {
          "base_uri": "https://localhost:8080/",
          "height": 192
        },
        "id": "vUskkFGzN9R_",
        "outputId": "45d74d8b-ce48-4083-dddd-1b4baaf7dac9"
      },
      "execution_count": 3,
      "outputs": [
        {
          "output_type": "error",
          "ename": "TypeError",
          "evalue": "ignored",
          "traceback": [
            "\u001b[0;31m---------------------------------------------------------------------------\u001b[0m",
            "\u001b[0;31mTypeError\u001b[0m                                 Traceback (most recent call last)",
            "\u001b[0;32m<ipython-input-3-a6d746a28606>\u001b[0m in \u001b[0;36m<cell line: 1>\u001b[0;34m()\u001b[0m\n\u001b[0;32m----> 1\u001b[0;31m \u001b[0my\u001b[0m\u001b[0;34m.\u001b[0m\u001b[0mextend\u001b[0m\u001b[0;34m(\u001b[0m\u001b[0;36m234\u001b[0m\u001b[0;34m)\u001b[0m \u001b[0;31m# int value does not breakable, it's not work\u001b[0m\u001b[0;34m\u001b[0m\u001b[0;34m\u001b[0m\u001b[0m\n\u001b[0m\u001b[1;32m      2\u001b[0m \u001b[0my\u001b[0m\u001b[0;34m\u001b[0m\u001b[0;34m\u001b[0m\u001b[0m\n",
            "\u001b[0;31mTypeError\u001b[0m: 'int' object is not iterable"
          ]
        }
      ]
    },
    {
      "cell_type": "code",
      "source": [
        "y.extend(34.234) # float value does not breakable, it's not work\n",
        "y"
      ],
      "metadata": {
        "colab": {
          "base_uri": "https://localhost:8080/",
          "height": 192
        },
        "id": "oXarhSmlQfzJ",
        "outputId": "9378008f-b4ce-4fea-b264-77a6aa912490"
      },
      "execution_count": 4,
      "outputs": [
        {
          "output_type": "error",
          "ename": "TypeError",
          "evalue": "ignored",
          "traceback": [
            "\u001b[0;31m---------------------------------------------------------------------------\u001b[0m",
            "\u001b[0;31mTypeError\u001b[0m                                 Traceback (most recent call last)",
            "\u001b[0;32m<ipython-input-4-253289aa5111>\u001b[0m in \u001b[0;36m<cell line: 1>\u001b[0;34m()\u001b[0m\n\u001b[0;32m----> 1\u001b[0;31m \u001b[0my\u001b[0m\u001b[0;34m.\u001b[0m\u001b[0mextend\u001b[0m\u001b[0;34m(\u001b[0m\u001b[0;36m34.234\u001b[0m\u001b[0;34m)\u001b[0m \u001b[0;31m# float value does not breakable, it's not work\u001b[0m\u001b[0;34m\u001b[0m\u001b[0;34m\u001b[0m\u001b[0m\n\u001b[0m\u001b[1;32m      2\u001b[0m \u001b[0my\u001b[0m\u001b[0;34m\u001b[0m\u001b[0;34m\u001b[0m\u001b[0m\n",
            "\u001b[0;31mTypeError\u001b[0m: 'float' object is not iterable"
          ]
        }
      ]
    },
    {
      "cell_type": "code",
      "source": [
        "y.extend(True) # bool value does not breakable, it's not work\n",
        "y"
      ],
      "metadata": {
        "colab": {
          "base_uri": "https://localhost:8080/",
          "height": 192
        },
        "id": "ufBa2x62QsxR",
        "outputId": "b4ffef9f-1106-433c-f1c0-3cadd8f228b7"
      },
      "execution_count": 5,
      "outputs": [
        {
          "output_type": "error",
          "ename": "TypeError",
          "evalue": "ignored",
          "traceback": [
            "\u001b[0;31m---------------------------------------------------------------------------\u001b[0m",
            "\u001b[0;31mTypeError\u001b[0m                                 Traceback (most recent call last)",
            "\u001b[0;32m<ipython-input-5-555297dbdaf6>\u001b[0m in \u001b[0;36m<cell line: 1>\u001b[0;34m()\u001b[0m\n\u001b[0;32m----> 1\u001b[0;31m \u001b[0my\u001b[0m\u001b[0;34m.\u001b[0m\u001b[0mextend\u001b[0m\u001b[0;34m(\u001b[0m\u001b[0;32mTrue\u001b[0m\u001b[0;34m)\u001b[0m \u001b[0;31m# bool value does not breakable, it's not work\u001b[0m\u001b[0;34m\u001b[0m\u001b[0;34m\u001b[0m\u001b[0m\n\u001b[0m\u001b[1;32m      2\u001b[0m \u001b[0my\u001b[0m\u001b[0;34m\u001b[0m\u001b[0;34m\u001b[0m\u001b[0m\n",
            "\u001b[0;31mTypeError\u001b[0m: 'bool' object is not iterable"
          ]
        }
      ]
    },
    {
      "cell_type": "code",
      "source": [
        "y.extend(34-4j) # complex value does not breakable, it's not work\n",
        "y"
      ],
      "metadata": {
        "colab": {
          "base_uri": "https://localhost:8080/",
          "height": 192
        },
        "id": "l5RFxg-AQ_mL",
        "outputId": "8de94c49-494a-44e1-f305-fb43df5d112d"
      },
      "execution_count": 6,
      "outputs": [
        {
          "output_type": "error",
          "ename": "TypeError",
          "evalue": "ignored",
          "traceback": [
            "\u001b[0;31m---------------------------------------------------------------------------\u001b[0m",
            "\u001b[0;31mTypeError\u001b[0m                                 Traceback (most recent call last)",
            "\u001b[0;32m<ipython-input-6-5b80fa435c9c>\u001b[0m in \u001b[0;36m<cell line: 1>\u001b[0;34m()\u001b[0m\n\u001b[0;32m----> 1\u001b[0;31m \u001b[0my\u001b[0m\u001b[0;34m.\u001b[0m\u001b[0mextend\u001b[0m\u001b[0;34m(\u001b[0m\u001b[0;36m34\u001b[0m\u001b[0;34m-\u001b[0m\u001b[0;36m4j\u001b[0m\u001b[0;34m)\u001b[0m \u001b[0;31m# complex value does not breakable, it's not work\u001b[0m\u001b[0;34m\u001b[0m\u001b[0;34m\u001b[0m\u001b[0m\n\u001b[0m\u001b[1;32m      2\u001b[0m \u001b[0my\u001b[0m\u001b[0;34m\u001b[0m\u001b[0;34m\u001b[0m\u001b[0m\n",
            "\u001b[0;31mTypeError\u001b[0m: 'complex' object is not iterable"
          ]
        }
      ]
    },
    {
      "cell_type": "code",
      "source": [
        "y.extend([123,\"ranjith\"]) # Break the list and add the values in list for last index\n",
        "y"
      ],
      "metadata": {
        "colab": {
          "base_uri": "https://localhost:8080/"
        },
        "id": "vLv0Fu1QROyg",
        "outputId": "de5e2491-979d-4785-82f4-90cbf80cfdde"
      },
      "execution_count": 7,
      "outputs": [
        {
          "output_type": "execute_result",
          "data": {
            "text/plain": [
              "['Ranjith', 5, 'Prem', 98.342, (39-54j), 'a', 'b', 'c', 123, 'ranjith']"
            ]
          },
          "metadata": {},
          "execution_count": 7
        }
      ]
    },
    {
      "cell_type": "markdown",
      "source": [
        "### insert( )\n",
        "insert(index_no,value)\n",
        "* we can insert all data types (int, float, str, bool, complex)\n",
        "* we can insert all data structures (list, dict, set, tuple) also"
      ],
      "metadata": {
        "id": "p9RP-TaDSBdD"
      }
    },
    {
      "cell_type": "code",
      "source": [
        "z = [45.7,\"Tamil\",45-6j,False]\n",
        "z"
      ],
      "metadata": {
        "colab": {
          "base_uri": "https://localhost:8080/"
        },
        "id": "ELXlmQBtSAz6",
        "outputId": "2819b814-a4d3-4249-9426-d5eb3049d395"
      },
      "execution_count": null,
      "outputs": [
        {
          "output_type": "execute_result",
          "data": {
            "text/plain": [
              "[45.7, 'Tamil', (45-6j), False]"
            ]
          },
          "metadata": {},
          "execution_count": 43
        }
      ]
    },
    {
      "cell_type": "code",
      "source": [
        "z.insert(3,\"Prem\") # insert the value speciific index\n",
        "z"
      ],
      "metadata": {
        "colab": {
          "base_uri": "https://localhost:8080/"
        },
        "id": "RsUWW1fgMYKv",
        "outputId": "8a046ee6-0d5f-4fc4-f0b2-c4855ccb52f3"
      },
      "execution_count": null,
      "outputs": [
        {
          "output_type": "execute_result",
          "data": {
            "text/plain": [
              "[45.7, 'Tamil', (45-6j), 'Prem', False]"
            ]
          },
          "metadata": {},
          "execution_count": 51
        }
      ]
    },
    {
      "cell_type": "code",
      "source": [
        "z.insert(2,[\"Ranjith\",23]) # we can insert data structures also\n",
        "z"
      ],
      "metadata": {
        "colab": {
          "base_uri": "https://localhost:8080/"
        },
        "id": "JTnEBZSJTlzX",
        "outputId": "6025e53c-5e2b-4978-86ef-7e7b2ae70a35"
      },
      "execution_count": null,
      "outputs": [
        {
          "output_type": "execute_result",
          "data": {
            "text/plain": [
              "[45.7, 'Tamil', ['Ranjith', 23], (45-6j), 'Prem', False]"
            ]
          },
          "metadata": {},
          "execution_count": 52
        }
      ]
    },
    {
      "cell_type": "markdown",
      "source": [
        "**Remove a values to list**\n",
        "* pop( )\n",
        "* remove( )\n",
        "* clear( )\n",
        "* del( )"
      ],
      "metadata": {
        "id": "YOca895lUBYW"
      }
    },
    {
      "cell_type": "code",
      "source": [
        "s = [\"Ranjith\", 23, \"Ariyalur\", True, 147.8]\n",
        "s"
      ],
      "metadata": {
        "colab": {
          "base_uri": "https://localhost:8080/"
        },
        "id": "6djiwWKOUhQ3",
        "outputId": "5d71c961-5092-4028-e526-eee8d2d4f6e3"
      },
      "execution_count": null,
      "outputs": [
        {
          "output_type": "execute_result",
          "data": {
            "text/plain": [
              "['Ranjith', 23, 'Ariyalur', True, 147.8]"
            ]
          },
          "metadata": {},
          "execution_count": 58
        }
      ]
    },
    {
      "cell_type": "code",
      "source": [
        "s.pop() # defaultly remove the last index value\n",
        "s"
      ],
      "metadata": {
        "colab": {
          "base_uri": "https://localhost:8080/"
        },
        "id": "wV7uNQFfMuBz",
        "outputId": "f2725170-f19a-46de-a188-9ab9393d78bb"
      },
      "execution_count": null,
      "outputs": [
        {
          "output_type": "execute_result",
          "data": {
            "text/plain": [
              "['Ranjith', 23, 'Ariyalur', True]"
            ]
          },
          "metadata": {},
          "execution_count": 59
        }
      ]
    },
    {
      "cell_type": "code",
      "source": [
        "s.pop(0) # we can remove specific index value\n",
        "s"
      ],
      "metadata": {
        "colab": {
          "base_uri": "https://localhost:8080/"
        },
        "id": "v46TGmXCTWf5",
        "outputId": "b0178e27-0965-477e-8039-957c9ea989f9"
      },
      "execution_count": null,
      "outputs": [
        {
          "output_type": "execute_result",
          "data": {
            "text/plain": [
              "[23, 'Ariyalur', True]"
            ]
          },
          "metadata": {},
          "execution_count": 60
        }
      ]
    },
    {
      "cell_type": "code",
      "source": [
        "s.pop([1:3]) # does not possible slicing\n",
        "s"
      ],
      "metadata": {
        "colab": {
          "base_uri": "https://localhost:8080/",
          "height": 140
        },
        "id": "4yuDEPBCVecv",
        "outputId": "1803bcd4-aa52-4942-9e0e-83380570f45f"
      },
      "execution_count": null,
      "outputs": [
        {
          "output_type": "error",
          "ename": "SyntaxError",
          "evalue": "ignored",
          "traceback": [
            "\u001b[0;36m  File \u001b[0;32m\"<ipython-input-62-df9d54dde4f4>\"\u001b[0;36m, line \u001b[0;32m1\u001b[0m\n\u001b[0;31m    s.pop([1:3])\u001b[0m\n\u001b[0m            ^\u001b[0m\n\u001b[0;31mSyntaxError\u001b[0m\u001b[0;31m:\u001b[0m invalid syntax\n"
          ]
        }
      ]
    },
    {
      "cell_type": "code",
      "source": [
        "s.remove(True) # remove the specific value\n",
        "s"
      ],
      "metadata": {
        "colab": {
          "base_uri": "https://localhost:8080/"
        },
        "id": "qE7uxZsEVtkx",
        "outputId": "1d6c2554-a6b4-4e33-9496-d4a6c903c353"
      },
      "execution_count": null,
      "outputs": [
        {
          "output_type": "execute_result",
          "data": {
            "text/plain": [
              "[23, 'Ariyalur']"
            ]
          },
          "metadata": {},
          "execution_count": 64
        }
      ]
    },
    {
      "cell_type": "code",
      "source": [
        "s.clear() # remove the all items in the list\n",
        "s"
      ],
      "metadata": {
        "colab": {
          "base_uri": "https://localhost:8080/"
        },
        "id": "Ba3a-TmwW2H6",
        "outputId": "7c57a2ba-9999-4178-ca15-991b62035aca"
      },
      "execution_count": null,
      "outputs": [
        {
          "output_type": "execute_result",
          "data": {
            "text/plain": [
              "[]"
            ]
          },
          "metadata": {},
          "execution_count": 70
        }
      ]
    },
    {
      "cell_type": "code",
      "source": [
        "del(s) # delete the list"
      ],
      "metadata": {
        "id": "eeOeMDWZXdGg"
      },
      "execution_count": null,
      "outputs": []
    },
    {
      "cell_type": "code",
      "source": [
        "s"
      ],
      "metadata": {
        "colab": {
          "base_uri": "https://localhost:8080/",
          "height": 175
        },
        "id": "xgMynN6mX1iI",
        "outputId": "e529967f-8cc1-4346-b334-59a81638c222"
      },
      "execution_count": null,
      "outputs": [
        {
          "output_type": "error",
          "ename": "NameError",
          "evalue": "ignored",
          "traceback": [
            "\u001b[0;31m---------------------------------------------------------------------------\u001b[0m",
            "\u001b[0;31mNameError\u001b[0m                                 Traceback (most recent call last)",
            "\u001b[0;32m<ipython-input-76-ded5ba42480f>\u001b[0m in \u001b[0;36m<cell line: 1>\u001b[0;34m()\u001b[0m\n\u001b[0;32m----> 1\u001b[0;31m \u001b[0ms\u001b[0m\u001b[0;34m\u001b[0m\u001b[0;34m\u001b[0m\u001b[0m\n\u001b[0m",
            "\u001b[0;31mNameError\u001b[0m: name 's' is not defined"
          ]
        }
      ]
    },
    {
      "cell_type": "markdown",
      "source": [
        "Additional functions in list\n",
        "* sort( )\n",
        "* reverse( ) \\\n",
        "Both are worked in same data type lists"
      ],
      "metadata": {
        "id": "q-ApVpSMYDuZ"
      }
    },
    {
      "cell_type": "code",
      "source": [
        "Num = [2,3,3.5,67,8,20,456-4,5754,765,2,556+5,-2,-34.5,-243.5]\n",
        "Num"
      ],
      "metadata": {
        "colab": {
          "base_uri": "https://localhost:8080/"
        },
        "id": "I_te8WU4YVQ4",
        "outputId": "da925aa0-3619-4883-8c25-cd1a9a8da5f2"
      },
      "execution_count": null,
      "outputs": [
        {
          "output_type": "execute_result",
          "data": {
            "text/plain": [
              "[2, 3, 3.5, 67, 8, 20, 452, 5754, 765, 2, 561, -2, -34.5, -243.5]"
            ]
          },
          "metadata": {},
          "execution_count": 86
        }
      ]
    },
    {
      "cell_type": "code",
      "source": [
        "Num.sort() # values in ascending order\n",
        "Num"
      ],
      "metadata": {
        "colab": {
          "base_uri": "https://localhost:8080/"
        },
        "id": "XQQlmvwjYk62",
        "outputId": "49840a7c-ba71-45fa-d36d-a85497289ad2"
      },
      "execution_count": null,
      "outputs": [
        {
          "output_type": "execute_result",
          "data": {
            "text/plain": [
              "[-243.5, -34.5, -2, 2, 2, 3, 3.5, 8, 20, 67, 452, 561, 765, 5754]"
            ]
          },
          "metadata": {},
          "execution_count": 89
        }
      ]
    },
    {
      "cell_type": "code",
      "source": [
        "Num.reverse() # values in decending order\n",
        "Num"
      ],
      "metadata": {
        "colab": {
          "base_uri": "https://localhost:8080/"
        },
        "id": "JRhG1AxvZFV2",
        "outputId": "f62c7556-f23a-4bf2-cf0f-236cb28f8fce"
      },
      "execution_count": null,
      "outputs": [
        {
          "output_type": "execute_result",
          "data": {
            "text/plain": [
              "[5754, 765, 561, 452, 67, 20, 8, 3.5, 3, 2, 2, -2, -34.5, -243.5]"
            ]
          },
          "metadata": {},
          "execution_count": 90
        }
      ]
    },
    {
      "cell_type": "code",
      "source": [
        "alp = [\"a\",\"d\",\"g\",\"rre\",\"rt\",\"f\",\"h\",\"j\",\"d\",\"s\"]\n",
        "alp"
      ],
      "metadata": {
        "colab": {
          "base_uri": "https://localhost:8080/"
        },
        "id": "V06w46TLZzf_",
        "outputId": "efdee932-a377-49a4-aa08-00e6e160720c"
      },
      "execution_count": null,
      "outputs": [
        {
          "output_type": "execute_result",
          "data": {
            "text/plain": [
              "['a', 'd', 'g', 'rre', 'rt', 'f', 'h', 'j', 'd', 's']"
            ]
          },
          "metadata": {},
          "execution_count": 92
        }
      ]
    },
    {
      "cell_type": "code",
      "source": [
        "alp.sort()\n",
        "alp"
      ],
      "metadata": {
        "colab": {
          "base_uri": "https://localhost:8080/"
        },
        "id": "WjSnfpMyaNAg",
        "outputId": "00393fa9-a6d8-462e-eba3-479c35d67044"
      },
      "execution_count": null,
      "outputs": [
        {
          "output_type": "execute_result",
          "data": {
            "text/plain": [
              "['a', 'd', 'd', 'f', 'g', 'h', 'j', 'rre', 'rt', 's']"
            ]
          },
          "metadata": {},
          "execution_count": 93
        }
      ]
    },
    {
      "cell_type": "code",
      "source": [
        "alp.reverse()\n",
        "alp"
      ],
      "metadata": {
        "colab": {
          "base_uri": "https://localhost:8080/"
        },
        "id": "LoLBqv7waiKv",
        "outputId": "dfcdc281-2423-4c22-f1af-aa2694bf9426"
      },
      "execution_count": null,
      "outputs": [
        {
          "output_type": "execute_result",
          "data": {
            "text/plain": [
              "['s', 'rt', 'rre', 'j', 'h', 'g', 'f', 'd', 'd', 'a']"
            ]
          },
          "metadata": {},
          "execution_count": 94
        }
      ]
    }
  ]
}