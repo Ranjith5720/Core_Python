{
  "nbformat": 4,
  "nbformat_minor": 0,
  "metadata": {
    "colab": {
      "provenance": [],
      "authorship_tag": "ABX9TyNvzdVUkomPQ9Oc7/3L8M69",
      "include_colab_link": true
    },
    "kernelspec": {
      "name": "python3",
      "display_name": "Python 3"
    },
    "language_info": {
      "name": "python"
    }
  },
  "cells": [
    {
      "cell_type": "markdown",
      "metadata": {
        "id": "view-in-github",
        "colab_type": "text"
      },
      "source": [
        "<a href=\"https://colab.research.google.com/github/Ranjith5720/Python/blob/main/Conditional_Statements(if%2Celif%2Celse).ipynb\" target=\"_parent\"><img src=\"https://colab.research.google.com/assets/colab-badge.svg\" alt=\"Open In Colab\"/></a>"
      ]
    },
    {
      "cell_type": "markdown",
      "source": [
        "### **Conditional Statement**\n",
        "- if\n",
        "- else\n",
        "- elif"
      ],
      "metadata": {
        "id": "HrSXrsjHZ8go"
      }
    },
    {
      "cell_type": "markdown",
      "source": [
        "### **if**\n",
        "We can apply the one or more conditions.\\\n",
        "**Syntax :** \\\n",
        "**if** (key word) **condition** **:** (operator)"
      ],
      "metadata": {
        "id": "Pgbwk7cleNgD"
      }
    },
    {
      "cell_type": "code",
      "source": [
        "x = int(input(\"Enter the value :\"))\n",
        "if x > 0: # condition\n",
        "  print(x,\"is a Positive Number\")"
      ],
      "metadata": {
        "colab": {
          "base_uri": "https://localhost:8080/"
        },
        "id": "2_P7wZ5daGCc",
        "outputId": "68fdad23-2e71-41f2-d78a-524ac4f4407c"
      },
      "execution_count": 1,
      "outputs": [
        {
          "output_type": "stream",
          "name": "stdout",
          "text": [
            "Enter the value :5\n",
            "5 is a Positive Number\n"
          ]
        }
      ]
    },
    {
      "cell_type": "code",
      "source": [
        "y = int(input(\"Enter the value :\"))\n",
        "if y > 0 and y==0: # can apply two or more conditions using and keyword\n",
        "  print(y,\"is a Positive Number\")"
      ],
      "metadata": {
        "colab": {
          "base_uri": "https://localhost:8080/"
        },
        "id": "cVHO-RVvqT2D",
        "outputId": "367f0882-5ead-4f20-a01e-bfa93df8813e"
      },
      "execution_count": 2,
      "outputs": [
        {
          "name": "stdout",
          "output_type": "stream",
          "text": [
            "Enter the value :8\n"
          ]
        }
      ]
    },
    {
      "cell_type": "markdown",
      "source": [
        "### **else**\n",
        "when if condition is failed, we can use else. It's help to properly close the conditions. \\\n",
        "**Syntax :** \\\n",
        "**else** (key word) **:** (operator)"
      ],
      "metadata": {
        "id": "Vadn8FTJhnq-"
      }
    },
    {
      "cell_type": "code",
      "source": [
        "z = int(input(\"Enter the value :\"))\n",
        "if z > 0 and z==0: # condition\n",
        "  print(z,\"is a Positive Number\")\n",
        "else: # closed the condition\n",
        "  print(z,\"is a Negative Number\")"
      ],
      "metadata": {
        "colab": {
          "base_uri": "https://localhost:8080/"
        },
        "id": "rEGyMzh2b1pa",
        "outputId": "f18e4bcb-8ba0-4c2b-c6df-91a946f1c384"
      },
      "execution_count": 3,
      "outputs": [
        {
          "output_type": "stream",
          "name": "stdout",
          "text": [
            "Enter the value :-3\n",
            "-3 is a Negative Number\n"
          ]
        }
      ]
    },
    {
      "cell_type": "markdown",
      "source": [
        "### **elif**\n",
        "elif = else + if \\\n",
        "when if condition was failed, elif used to apply another condition.\n",
        "**Syntax :** \\\n",
        "**elif** (keyword) **condition :** (operator)"
      ],
      "metadata": {
        "id": "LcJXq0eei9Ti"
      }
    },
    {
      "cell_type": "code",
      "source": [
        "a = int(input(\"Enter the value :\"))\n",
        "if a > 0: #  Condition\n",
        "  print(a,\"is a Positive Number\")\n",
        "elif a==0: # another condition\n",
        "  print(a,\"is a Nutral Number\")\n",
        "else: # closed the condition\n",
        "  print(a,\"is a Negative Number\")"
      ],
      "metadata": {
        "id": "87KXJRbfgiMQ",
        "colab": {
          "base_uri": "https://localhost:8080/"
        },
        "outputId": "e5c1a3b0-3467-4298-d808-150b1638a6ea"
      },
      "execution_count": 4,
      "outputs": [
        {
          "output_type": "stream",
          "name": "stdout",
          "text": [
            "Enter the value :0\n",
            "0 is a Nutral Number\n"
          ]
        }
      ]
    }
  ]
}