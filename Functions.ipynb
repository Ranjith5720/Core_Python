{
  "nbformat": 4,
  "nbformat_minor": 0,
  "metadata": {
    "colab": {
      "provenance": [],
      "authorship_tag": "ABX9TyPoMsKU5VwryjSDXW0A5ebf",
      "include_colab_link": true
    },
    "kernelspec": {
      "name": "python3",
      "display_name": "Python 3"
    },
    "language_info": {
      "name": "python"
    }
  },
  "cells": [
    {
      "cell_type": "markdown",
      "metadata": {
        "id": "view-in-github",
        "colab_type": "text"
      },
      "source": [
        "<a href=\"https://colab.research.google.com/github/Ranjith5720/Python/blob/main/Functions.ipynb\" target=\"_parent\"><img src=\"https://colab.research.google.com/assets/colab-badge.svg\" alt=\"Open In Colab\"/></a>"
      ]
    },
    {
      "cell_type": "markdown",
      "source": [
        "# **Functions** :\n",
        "---------------\n",
        "In python, A  **function** is named section of a code that performs a specific task.  \n",
        "\n",
        "**Types :**\n",
        "-----------\n",
        "1. Build-in ( or ) In-build functions.\n",
        "2. User defined functions. ( UDF's )\n",
        "3. Lambda functions."
      ],
      "metadata": {
        "id": "4H9Ky5A4Kqi9"
      }
    },
    {
      "cell_type": "markdown",
      "source": [
        "# **1. Build-in (or) In-build functions:**\n",
        "----------------------------------------\n",
        "In python those funtions are already defined by specific task.  \n",
        "\n",
        "**EX :**\n",
        "--------\n",
        "print( )  \n",
        "type( )  \n",
        "min( )  \n",
        "max( )  \n"
      ],
      "metadata": {
        "id": "HDVwliT3NKRs"
      }
    },
    {
      "cell_type": "code",
      "execution_count": null,
      "metadata": {
        "id": "CjqkEnRQKGLW"
      },
      "outputs": [],
      "source": [
        "a = [98, 34, 64, 98, 2, 34, 10, 1.2, 34.5]"
      ]
    },
    {
      "cell_type": "code",
      "source": [
        "print(a)"
      ],
      "metadata": {
        "colab": {
          "base_uri": "https://localhost:8080/"
        },
        "id": "eSWCZ2dzO5nd",
        "outputId": "d85caaf3-7404-42df-9bb8-787ec38d4ae7"
      },
      "execution_count": null,
      "outputs": [
        {
          "output_type": "stream",
          "name": "stdout",
          "text": [
            "[98, 34, 64, 98, 2, 34, 10, 1.2, 34.5]\n"
          ]
        }
      ]
    },
    {
      "cell_type": "code",
      "source": [
        "type(a)"
      ],
      "metadata": {
        "colab": {
          "base_uri": "https://localhost:8080/"
        },
        "id": "2c1Vk1MEPHSp",
        "outputId": "49be3e9d-e655-4154-a75e-185b6c594c62"
      },
      "execution_count": null,
      "outputs": [
        {
          "output_type": "execute_result",
          "data": {
            "text/plain": [
              "list"
            ]
          },
          "metadata": {},
          "execution_count": 3
        }
      ]
    },
    {
      "cell_type": "code",
      "source": [
        "min(a)"
      ],
      "metadata": {
        "colab": {
          "base_uri": "https://localhost:8080/"
        },
        "id": "Cf_j8IrPPKGs",
        "outputId": "0b3e5cc6-9d5f-4ce2-f384-40301fc1e6f7"
      },
      "execution_count": null,
      "outputs": [
        {
          "output_type": "execute_result",
          "data": {
            "text/plain": [
              "1.2"
            ]
          },
          "metadata": {},
          "execution_count": 4
        }
      ]
    },
    {
      "cell_type": "code",
      "source": [
        "max(a)"
      ],
      "metadata": {
        "colab": {
          "base_uri": "https://localhost:8080/"
        },
        "id": "4r2srmPYPMMg",
        "outputId": "51893ce9-fe34-442f-9870-b1ff9b32bf58"
      },
      "execution_count": null,
      "outputs": [
        {
          "output_type": "execute_result",
          "data": {
            "text/plain": [
              "98"
            ]
          },
          "metadata": {},
          "execution_count": 5
        }
      ]
    },
    {
      "cell_type": "markdown",
      "source": [
        "# **2. User defined functions (UDF's) :**\n",
        "---------------------------------------\n",
        "Functions are ownly created by users for certain specific task.  \n",
        "\n",
        "**Syntax :**\n",
        "------------\n",
        "**def** function_name( arguments ) :     \n",
        "Conditions"
      ],
      "metadata": {
        "id": "giuom8OcPpF-"
      }
    },
    {
      "cell_type": "code",
      "source": [
        "# Create a function\n",
        "# Addition for two numbers\n",
        "\n",
        "def add(x,y): # where, x & y are argument\n",
        "  total = x + y\n",
        "  print(total)"
      ],
      "metadata": {
        "id": "lvKJALppPfoQ"
      },
      "execution_count": null,
      "outputs": []
    },
    {
      "cell_type": "code",
      "source": [
        "# function calling\n",
        "\n",
        "add(5,2) # where, 5 & 2 are parameter"
      ],
      "metadata": {
        "colab": {
          "base_uri": "https://localhost:8080/"
        },
        "id": "qbJwucd6U4LM",
        "outputId": "53476eec-e03e-4683-ca72-03a72d12eb2e"
      },
      "execution_count": null,
      "outputs": [
        {
          "output_type": "stream",
          "name": "stdout",
          "text": [
            "7\n"
          ]
        }
      ]
    },
    {
      "cell_type": "code",
      "source": [
        "# Create a function for odd (or) even numbers\n",
        "\n",
        "def odd_even(num):\n",
        "  if num == 0:\n",
        "    print(num, 'is a nutral number')\n",
        "  elif num % 2 == 0:\n",
        "    print(num,'is a even number')\n",
        "  else:\n",
        "    print(num,'is a odd number')"
      ],
      "metadata": {
        "id": "h2VNdWZiU7AD"
      },
      "execution_count": null,
      "outputs": []
    },
    {
      "cell_type": "code",
      "source": [
        "odd_even(0)"
      ],
      "metadata": {
        "colab": {
          "base_uri": "https://localhost:8080/"
        },
        "id": "JblXdBOSX1F9",
        "outputId": "db9ff4ad-e9ec-48b9-a7bc-22e1537e4b49"
      },
      "execution_count": null,
      "outputs": [
        {
          "output_type": "stream",
          "name": "stdout",
          "text": [
            "0 is a nutral number\n"
          ]
        }
      ]
    },
    {
      "cell_type": "code",
      "source": [
        "odd_even(4)"
      ],
      "metadata": {
        "colab": {
          "base_uri": "https://localhost:8080/"
        },
        "id": "KZHBFQLuX-vH",
        "outputId": "681f3aa0-b338-47f3-d449-04e4b865cb7f"
      },
      "execution_count": null,
      "outputs": [
        {
          "output_type": "stream",
          "name": "stdout",
          "text": [
            "4 is a even number\n"
          ]
        }
      ]
    },
    {
      "cell_type": "code",
      "source": [
        "odd_even(9)"
      ],
      "metadata": {
        "colab": {
          "base_uri": "https://localhost:8080/"
        },
        "id": "Yt-r1RyGYFR3",
        "outputId": "1a25f7c8-7c10-43f1-da86-f41953a67185"
      },
      "execution_count": null,
      "outputs": [
        {
          "output_type": "stream",
          "name": "stdout",
          "text": [
            "9 is a odd number\n"
          ]
        }
      ]
    },
    {
      "cell_type": "markdown",
      "source": [
        "**Arbitrary Arguments :**  \n",
        "-------------------------\n",
        "The * keyword arguments allows you to pass multiple values to a function .\n",
        "\n",
        "The ** keyword arguments allows to pass the values are accessed using key-value pair ( same as accessing a dictionary ) .\n",
        "\n",
        "**Syntax :**  \n",
        "------------\n",
        "\n",
        "**def** function_name ( * arguments ) :  \n",
        "                ( or )  \n",
        "**def** function_name ( ** arguments ) :  "
      ],
      "metadata": {
        "id": "feG8x0wVwJBs"
      }
    },
    {
      "cell_type": "code",
      "source": [
        "def colour(*col):\n",
        "  print(col)"
      ],
      "metadata": {
        "id": "IuuqkZlmhQ0Q"
      },
      "execution_count": null,
      "outputs": []
    },
    {
      "cell_type": "code",
      "source": [
        "colour('Black', 'White', 'Orange')"
      ],
      "metadata": {
        "colab": {
          "base_uri": "https://localhost:8080/"
        },
        "id": "O9heaaRVi2sW",
        "outputId": "487a0816-d690-4660-c65e-7e06e1eba148"
      },
      "execution_count": null,
      "outputs": [
        {
          "output_type": "stream",
          "name": "stdout",
          "text": [
            "('Black', 'White', 'Orange')\n"
          ]
        }
      ]
    },
    {
      "cell_type": "code",
      "source": [
        "def names(*name):\n",
        "  for i in name:\n",
        "    print(i)"
      ],
      "metadata": {
        "id": "oY3RNsQ1siiR"
      },
      "execution_count": null,
      "outputs": []
    },
    {
      "cell_type": "code",
      "source": [
        "names('Ranjith', 'Prem', 'Tamil', 'Bala', 'Pugazh')"
      ],
      "metadata": {
        "colab": {
          "base_uri": "https://localhost:8080/"
        },
        "id": "DcAXbMb3sv1h",
        "outputId": "ab2e8f13-7cef-4dcc-ae10-a79dcad9358b"
      },
      "execution_count": null,
      "outputs": [
        {
          "output_type": "stream",
          "name": "stdout",
          "text": [
            "Ranjith\n",
            "Prem\n",
            "Tamil\n",
            "Bala\n",
            "Pugazh\n"
          ]
        }
      ]
    },
    {
      "cell_type": "code",
      "source": [
        "def percent(*subject):\n",
        "  sum = 0\n",
        "  for i in subject:\n",
        "    sum = sum + i\n",
        "  average = sum / len(subject)\n",
        "  print(average, '%')"
      ],
      "metadata": {
        "id": "CoFbaFqAxKJD"
      },
      "execution_count": 5,
      "outputs": []
    },
    {
      "cell_type": "code",
      "source": [
        "percent(12, 45, 67, 23, 65)"
      ],
      "metadata": {
        "colab": {
          "base_uri": "https://localhost:8080/"
        },
        "id": "KxLSstEJxwCE",
        "outputId": "68802fc1-0e92-467f-f8be-908e318bae1f"
      },
      "execution_count": 6,
      "outputs": [
        {
          "output_type": "stream",
          "name": "stdout",
          "text": [
            "42.4 %\n"
          ]
        }
      ]
    },
    {
      "cell_type": "code",
      "source": [
        "def percentage(**subject):\n",
        "  sum = 0\n",
        "  for i in subject:\n",
        "    sub_name = i\n",
        "    sub_value = subject[i]\n",
        "    sum = sum + sub_value\n",
        "  average = sum / len(subject)\n",
        "  print(average, '%')"
      ],
      "metadata": {
        "id": "kc8fHdEQnZwv"
      },
      "execution_count": 32,
      "outputs": []
    },
    {
      "cell_type": "code",
      "source": [
        "percentage( Tamil = 98, English = 88, Maths = 99, Science = 94, Social = 100 )"
      ],
      "metadata": {
        "colab": {
          "base_uri": "https://localhost:8080/"
        },
        "id": "WLUnOlsYo1sa",
        "outputId": "cd945143-4d0f-4291-c760-92534e40f98b"
      },
      "execution_count": 34,
      "outputs": [
        {
          "output_type": "stream",
          "name": "stdout",
          "text": [
            "95.8 %\n"
          ]
        }
      ]
    },
    {
      "cell_type": "code",
      "source": [
        "def average(**subject):\n",
        "  sum = 0\n",
        "  for i,j in subject.items():\n",
        "    sum = sum + j\n",
        "  avg = sum / len(subject)\n",
        "  print(avg, '%')"
      ],
      "metadata": {
        "id": "2pgfwFLLupbJ"
      },
      "execution_count": 46,
      "outputs": []
    },
    {
      "cell_type": "code",
      "source": [
        "average( Tamil = 90, English = 84, Maths = 92, Science = 96, Social = 99 )"
      ],
      "metadata": {
        "colab": {
          "base_uri": "https://localhost:8080/"
        },
        "id": "O1mEFF8evJdD",
        "outputId": "09ab8ca9-a8da-486f-bf2e-b71c1a53d07c"
      },
      "execution_count": 50,
      "outputs": [
        {
          "output_type": "stream",
          "name": "stdout",
          "text": [
            "92.2 %\n"
          ]
        }
      ]
    },
    {
      "cell_type": "markdown",
      "source": [
        "# **3. Lambda function :**\n",
        "--------------------------\n",
        "It is also called anonymous, they are not declared with standard def keyword.  \n",
        "It is similar to User defined function but without a name.\n",
        "\n",
        "**Syntax :**\n",
        "------------\n",
        "**lambda** arguments :  conditions"
      ],
      "metadata": {
        "id": "lwytc887Yfs-"
      }
    },
    {
      "cell_type": "code",
      "source": [
        "# create lambda function\n",
        "\n",
        "square = lambda a: a ** 2"
      ],
      "metadata": {
        "id": "TtD3T_ab5mOL"
      },
      "execution_count": 53,
      "outputs": []
    },
    {
      "cell_type": "code",
      "source": [
        "# calling lambda function\n",
        "\n",
        "square(7)"
      ],
      "metadata": {
        "id": "uyGZIuPzYKz1",
        "colab": {
          "base_uri": "https://localhost:8080/"
        },
        "outputId": "5e6d873f-f7be-451d-90ca-2b092cf322e0"
      },
      "execution_count": 54,
      "outputs": [
        {
          "output_type": "execute_result",
          "data": {
            "text/plain": [
              "49"
            ]
          },
          "metadata": {},
          "execution_count": 54
        }
      ]
    },
    {
      "cell_type": "code",
      "source": [
        "# pass multible arguments in lambda function\n",
        "\n",
        "names = lambda *name: name"
      ],
      "metadata": {
        "id": "E6VCmBgw8Wm1"
      },
      "execution_count": 60,
      "outputs": []
    },
    {
      "cell_type": "code",
      "source": [
        "names('Ranjith', 'Prem', 'Tamil')"
      ],
      "metadata": {
        "colab": {
          "base_uri": "https://localhost:8080/"
        },
        "id": "uW2v_dAd7VgM",
        "outputId": "3e530073-f29e-4c43-a8db-40d021dd85fe"
      },
      "execution_count": 66,
      "outputs": [
        {
          "output_type": "execute_result",
          "data": {
            "text/plain": [
              "('Ranjith', 'Prem', 'Tamil')"
            ]
          },
          "metadata": {},
          "execution_count": 66
        }
      ]
    },
    {
      "cell_type": "code",
      "source": [
        "# pass multible arguments for key and value pair (like dictionary) in lambda function\n",
        "\n",
        "marks = lambda **mark: mark"
      ],
      "metadata": {
        "id": "My-O0yZy8DIf"
      },
      "execution_count": 63,
      "outputs": []
    },
    {
      "cell_type": "code",
      "source": [
        "marks(Tamil = 90, English = 84, Maths = 92, Science = 96, Social = 99)"
      ],
      "metadata": {
        "colab": {
          "base_uri": "https://localhost:8080/"
        },
        "id": "AZeSoatt9kWM",
        "outputId": "9621d606-96d0-44ee-c274-4c1e7db62154"
      },
      "execution_count": 64,
      "outputs": [
        {
          "output_type": "execute_result",
          "data": {
            "text/plain": [
              "{'Tamil': 90, 'English': 84, 'Maths': 92, 'Science': 96, 'Social': 99}"
            ]
          },
          "metadata": {},
          "execution_count": 64
        }
      ]
    },
    {
      "cell_type": "code",
      "source": [
        "# In lambda function declare the default arguments is possible\n",
        "\n",
        "add = lambda a, b, c=5: a + b + c"
      ],
      "metadata": {
        "id": "jiNyIpoV9rkq"
      },
      "execution_count": 69,
      "outputs": []
    },
    {
      "cell_type": "code",
      "source": [
        "add(2,3)"
      ],
      "metadata": {
        "colab": {
          "base_uri": "https://localhost:8080/"
        },
        "id": "02IxCbXm-QpF",
        "outputId": "dfdf85b2-e537-49ea-f0dd-bed063a47942"
      },
      "execution_count": 70,
      "outputs": [
        {
          "output_type": "execute_result",
          "data": {
            "text/plain": [
              "10"
            ]
          },
          "metadata": {},
          "execution_count": 70
        }
      ]
    },
    {
      "cell_type": "code",
      "source": [
        "mul = lambda a=1, b, c: a * b * c # only declared the default arguments at last argument, not in middle or first"
      ],
      "metadata": {
        "colab": {
          "base_uri": "https://localhost:8080/",
          "height": 145
        },
        "id": "Bl9ufRMAADVm",
        "outputId": "87b15e5c-ba61-4819-91ea-0dd123517f91"
      },
      "execution_count": 72,
      "outputs": [
        {
          "output_type": "error",
          "ename": "SyntaxError",
          "evalue": "ignored",
          "traceback": [
            "\u001b[0;36m  File \u001b[0;32m\"<ipython-input-72-3aac9aa57fc5>\"\u001b[0;36m, line \u001b[0;32m1\u001b[0m\n\u001b[0;31m    mul = lambda a=1, b, c: a * b * c # only declared the default arguments at last argument, not in middle or first\u001b[0m\n\u001b[0m                      ^\u001b[0m\n\u001b[0;31mSyntaxError\u001b[0m\u001b[0;31m:\u001b[0m non-default argument follows default argument\n"
          ]
        }
      ]
    },
    {
      "cell_type": "code",
      "source": [
        "a = [12,3,5,7,43,2,7,8,5,5,4]\n",
        "a1 =list(filter(lambda a:(a % 2 == 0),a))"
      ],
      "metadata": {
        "id": "wNJuw2pmAfjc"
      },
      "execution_count": 90,
      "outputs": []
    },
    {
      "cell_type": "code",
      "source": [
        "print(a1)"
      ],
      "metadata": {
        "colab": {
          "base_uri": "https://localhost:8080/"
        },
        "id": "N5w5FZWyCTwX",
        "outputId": "c4c4c65a-b4d5-4532-c709-de36714de6de"
      },
      "execution_count": 91,
      "outputs": [
        {
          "output_type": "stream",
          "name": "stdout",
          "text": [
            "[12, 2, 8, 4]\n"
          ]
        }
      ]
    }
  ]
}