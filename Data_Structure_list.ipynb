{
  "nbformat": 4,
  "nbformat_minor": 0,
  "metadata": {
    "colab": {
      "provenance": [],
      "authorship_tag": "ABX9TyMIaAdbKv9WTsCSFjU3/F+y",
      "include_colab_link": true
    },
    "kernelspec": {
      "name": "python3",
      "display_name": "Python 3"
    },
    "language_info": {
      "name": "python"
    }
  },
  "cells": [
    {
      "cell_type": "markdown",
      "metadata": {
        "id": "view-in-github",
        "colab_type": "text"
      },
      "source": [
        "<a href=\"https://colab.research.google.com/github/Ranjith5720/Python/blob/main/Data_structure_list.ipynb\" target=\"_parent\"><img src=\"https://colab.research.google.com/assets/colab-badge.svg\" alt=\"Open In Colab\"/></a>"
      ]
    },
    {
      "cell_type": "markdown",
      "source": [
        "### **List**\n",
        "* List is a collection of order sequence elements.\n",
        "* It is Mutable or changeable.\n",
        "* The values between square brackets [ ]."
      ],
      "metadata": {
        "id": "eqWIcA3WCzbp"
      }
    },
    {
      "cell_type": "code",
      "execution_count": 11,
      "metadata": {
        "colab": {
          "base_uri": "https://localhost:8080/"
        },
        "id": "P-QlO3S0CIvU",
        "outputId": "e025e06e-d73c-4cc2-af2f-9978064d5dc7"
      },
      "outputs": [
        {
          "output_type": "execute_result",
          "data": {
            "text/plain": [
              "list"
            ]
          },
          "metadata": {},
          "execution_count": 11
        }
      ],
      "source": [
        "a = [] # Empty list is possible\n",
        "type(a)"
      ]
    },
    {
      "cell_type": "code",
      "source": [
        "b = [53,55.2,\"Ranjith\",True,5+3j] # List accept the all data types\n",
        "b"
      ],
      "metadata": {
        "colab": {
          "base_uri": "https://localhost:8080/"
        },
        "id": "xFL8R2YEFlta",
        "outputId": "ddc99904-c1ac-4a00-a7ec-34e62ff0609d"
      },
      "execution_count": 12,
      "outputs": [
        {
          "output_type": "execute_result",
          "data": {
            "text/plain": [
              "[53, 55.2, 'Ranjith', True, (5+3j)]"
            ]
          },
          "metadata": {},
          "execution_count": 12
        }
      ]
    },
    {
      "cell_type": "code",
      "source": [
        "len(b) # List is countable"
      ],
      "metadata": {
        "colab": {
          "base_uri": "https://localhost:8080/"
        },
        "id": "6HSeWNQ8GJ8Z",
        "outputId": "6f080938-bb02-4e1d-f7d5-ccf763de791a"
      },
      "execution_count": 13,
      "outputs": [
        {
          "output_type": "execute_result",
          "data": {
            "text/plain": [
              "5"
            ]
          },
          "metadata": {},
          "execution_count": 13
        }
      ]
    },
    {
      "cell_type": "code",
      "source": [
        "b[3] # List is indexable"
      ],
      "metadata": {
        "colab": {
          "base_uri": "https://localhost:8080/"
        },
        "id": "Pc6ZXbmpGVDI",
        "outputId": "56ac3dd6-ba98-4d38-c783-cd5df496877d"
      },
      "execution_count": 14,
      "outputs": [
        {
          "output_type": "execute_result",
          "data": {
            "text/plain": [
              "True"
            ]
          },
          "metadata": {},
          "execution_count": 14
        }
      ]
    },
    {
      "cell_type": "code",
      "source": [
        "b[1:4] # Slicing"
      ],
      "metadata": {
        "colab": {
          "base_uri": "https://localhost:8080/"
        },
        "id": "RSqf6YlQGtsc",
        "outputId": "13fdac82-d5dc-442e-8461-686ec2a9ec6c"
      },
      "execution_count": 15,
      "outputs": [
        {
          "output_type": "execute_result",
          "data": {
            "text/plain": [
              "[55.2, 'Ranjith', True]"
            ]
          },
          "metadata": {},
          "execution_count": 15
        }
      ]
    },
    {
      "cell_type": "code",
      "source": [
        "b[\"Ranjith\"] # can't call the values"
      ],
      "metadata": {
        "colab": {
          "base_uri": "https://localhost:8080/",
          "height": 175
        },
        "id": "EWHOHC3RH0xn",
        "outputId": "9db1366a-b3c6-4382-9fd4-8ba3289b77e7"
      },
      "execution_count": 16,
      "outputs": [
        {
          "output_type": "error",
          "ename": "TypeError",
          "evalue": "ignored",
          "traceback": [
            "\u001b[0;31m---------------------------------------------------------------------------\u001b[0m",
            "\u001b[0;31mTypeError\u001b[0m                                 Traceback (most recent call last)",
            "\u001b[0;32m<ipython-input-16-9a96109e23df>\u001b[0m in \u001b[0;36m<cell line: 1>\u001b[0;34m()\u001b[0m\n\u001b[0;32m----> 1\u001b[0;31m \u001b[0mb\u001b[0m\u001b[0;34m[\u001b[0m\u001b[0;34m\"Ranjith\"\u001b[0m\u001b[0;34m]\u001b[0m \u001b[0;31m# can't call the values\u001b[0m\u001b[0;34m\u001b[0m\u001b[0;34m\u001b[0m\u001b[0m\n\u001b[0m",
            "\u001b[0;31mTypeError\u001b[0m: list indices must be integers or slices, not str"
          ]
        }
      ]
    },
    {
      "cell_type": "code",
      "source": [
        "c = [2,5,4.3,\"Ranjith\",True,2+3j,\"Ranjith\",2,False,5] # List accept the duplicate values\n",
        "c"
      ],
      "metadata": {
        "colab": {
          "base_uri": "https://localhost:8080/"
        },
        "id": "8DddeWKgG8ao",
        "outputId": "5bf8fa3e-b035-4a06-eccd-99b77617b60a"
      },
      "execution_count": 17,
      "outputs": [
        {
          "output_type": "execute_result",
          "data": {
            "text/plain": [
              "[2, 5, 4.3, 'Ranjith', True, (2+3j), 'Ranjith', 2, False, 5]"
            ]
          },
          "metadata": {},
          "execution_count": 17
        }
      ]
    },
    {
      "cell_type": "markdown",
      "source": [
        "**Add a value to list**\n",
        "* append( ) - add a value at last index\n",
        "* extend( ) - structure breaker\n",
        "* insert( ) - insert the value in specific index"
      ],
      "metadata": {
        "id": "x-w2R71kIkh8"
      }
    },
    {
      "cell_type": "markdown",
      "source": [
        "### append( )\n",
        "* we can add the all data types (int, float, str, bool, complex) at last index\n",
        "* we can add same and other data structures (list, dict, set, tuple) at last index"
      ],
      "metadata": {
        "id": "SpmaiYE8NnWx"
      }
    },
    {
      "cell_type": "code",
      "source": [
        "x = [\"Ranjith\",23,\"Ariyalur\"]\n",
        "x"
      ],
      "metadata": {
        "colab": {
          "base_uri": "https://localhost:8080/"
        },
        "id": "D1-hKMEWIOtY",
        "outputId": "237aff8a-41e9-49c2-9c16-ea96068f6b05"
      },
      "execution_count": 18,
      "outputs": [
        {
          "output_type": "execute_result",
          "data": {
            "text/plain": [
              "['Ranjith', 23, 'Ariyalur']"
            ]
          },
          "metadata": {},
          "execution_count": 18
        }
      ]
    },
    {
      "cell_type": "code",
      "source": [
        "x.append(\"M.sc\") # add a value at last index\n",
        "x"
      ],
      "metadata": {
        "colab": {
          "base_uri": "https://localhost:8080/"
        },
        "id": "D7dWfzdSKY7y",
        "outputId": "4b459728-5bd0-466a-a04e-a5c8e29a2c89"
      },
      "execution_count": 19,
      "outputs": [
        {
          "output_type": "execute_result",
          "data": {
            "text/plain": [
              "['Ranjith', 23, 'Ariyalur', 'M.sc']"
            ]
          },
          "metadata": {},
          "execution_count": 19
        }
      ]
    },
    {
      "cell_type": "code",
      "source": [
        "x.append([23,5.2,True]) # Add a list in the list is possible\n",
        "x"
      ],
      "metadata": {
        "colab": {
          "base_uri": "https://localhost:8080/"
        },
        "id": "NeWzL2htLcPX",
        "outputId": "f2eb1106-9a4a-401f-852f-231df4b455ac"
      },
      "execution_count": 20,
      "outputs": [
        {
          "output_type": "execute_result",
          "data": {
            "text/plain": [
              "['Ranjith', 23, 'Ariyalur', 'M.sc', [23, 5.2, True]]"
            ]
          },
          "metadata": {},
          "execution_count": 20
        }
      ]
    },
    {
      "cell_type": "code",
      "source": [
        "x.append((1,3,5)) # Add a tuple in the list is possible\n",
        "x"
      ],
      "metadata": {
        "colab": {
          "base_uri": "https://localhost:8080/"
        },
        "id": "uE14D2_2Lpj9",
        "outputId": "3a3dc08e-5bd3-4392-d694-2e4b951a965f"
      },
      "execution_count": 21,
      "outputs": [
        {
          "output_type": "execute_result",
          "data": {
            "text/plain": [
              "['Ranjith', 23, 'Ariyalur', 'M.sc', [23, 5.2, True], (1, 3, 5)]"
            ]
          },
          "metadata": {},
          "execution_count": 21
        }
      ]
    },
    {
      "cell_type": "code",
      "source": [
        "x.append({1,2,3,4,5}) # Add a set in the list is possible\n",
        "x"
      ],
      "metadata": {
        "colab": {
          "base_uri": "https://localhost:8080/"
        },
        "id": "VqQzmSfEM3Km",
        "outputId": "68511be0-86d1-4fc5-ca72-d1e7a455b8ba"
      },
      "execution_count": 22,
      "outputs": [
        {
          "output_type": "execute_result",
          "data": {
            "text/plain": [
              "['Ranjith',\n",
              " 23,\n",
              " 'Ariyalur',\n",
              " 'M.sc',\n",
              " [23, 5.2, True],\n",
              " (1, 3, 5),\n",
              " {1, 2, 3, 4, 5}]"
            ]
          },
          "metadata": {},
          "execution_count": 22
        }
      ]
    },
    {
      "cell_type": "code",
      "source": [
        "x.append({1:\"a\",2:\"b\"}) # Add a dict in the list is possible\n",
        "x"
      ],
      "metadata": {
        "colab": {
          "base_uri": "https://localhost:8080/"
        },
        "id": "tHWvJzJUNQYj",
        "outputId": "e5116917-c7a9-4771-da6b-44c09878efbb"
      },
      "execution_count": 23,
      "outputs": [
        {
          "output_type": "execute_result",
          "data": {
            "text/plain": [
              "['Ranjith',\n",
              " 23,\n",
              " 'Ariyalur',\n",
              " 'M.sc',\n",
              " [23, 5.2, True],\n",
              " (1, 3, 5),\n",
              " {1, 2, 3, 4, 5},\n",
              " {1: 'a', 2: 'b'}]"
            ]
          },
          "metadata": {},
          "execution_count": 23
        }
      ]
    },
    {
      "cell_type": "markdown",
      "source": [
        "### extend( )\n",
        "* str data type is worked.\n",
        "* other data types (int, float, bool, complex) are not worked for directly applying. It's worked for put the any structure or container."
      ],
      "metadata": {
        "id": "iDmqPvrNN21j"
      }
    },
    {
      "cell_type": "code",
      "source": [
        "y = [\"Ranjith\",5,\"Prem\",98.342,39-54j]\n",
        "y"
      ],
      "metadata": {
        "colab": {
          "base_uri": "https://localhost:8080/"
        },
        "id": "ddllVkoWN99S",
        "outputId": "bb0a8fe2-07ab-4c9a-c1a9-1c7ab6879744"
      },
      "execution_count": 24,
      "outputs": [
        {
          "output_type": "execute_result",
          "data": {
            "text/plain": [
              "['Ranjith', 5, 'Prem', 98.342, (39-54j)]"
            ]
          },
          "metadata": {},
          "execution_count": 24
        }
      ]
    },
    {
      "cell_type": "code",
      "source": [
        "y.extend(\"abc\") # break the string, separate the values and add to the list at last index\n",
        "y"
      ],
      "metadata": {
        "colab": {
          "base_uri": "https://localhost:8080/"
        },
        "id": "QJEuKXIuN95e",
        "outputId": "ca3aff56-afeb-4d52-d3f9-2eaf3925c76e"
      },
      "execution_count": 25,
      "outputs": [
        {
          "output_type": "execute_result",
          "data": {
            "text/plain": [
              "['Ranjith', 5, 'Prem', 98.342, (39-54j), 'a', 'b', 'c']"
            ]
          },
          "metadata": {},
          "execution_count": 25
        }
      ]
    },
    {
      "cell_type": "code",
      "source": [
        "y.extend(234) # int value does not breakable, it's not work\n",
        "y"
      ],
      "metadata": {
        "colab": {
          "base_uri": "https://localhost:8080/",
          "height": 192
        },
        "id": "vUskkFGzN9R_",
        "outputId": "65314e72-75ab-408e-a8fd-8e44dd2fcb76"
      },
      "execution_count": 26,
      "outputs": [
        {
          "output_type": "error",
          "ename": "TypeError",
          "evalue": "ignored",
          "traceback": [
            "\u001b[0;31m---------------------------------------------------------------------------\u001b[0m",
            "\u001b[0;31mTypeError\u001b[0m                                 Traceback (most recent call last)",
            "\u001b[0;32m<ipython-input-26-a6d746a28606>\u001b[0m in \u001b[0;36m<cell line: 1>\u001b[0;34m()\u001b[0m\n\u001b[0;32m----> 1\u001b[0;31m \u001b[0my\u001b[0m\u001b[0;34m.\u001b[0m\u001b[0mextend\u001b[0m\u001b[0;34m(\u001b[0m\u001b[0;36m234\u001b[0m\u001b[0;34m)\u001b[0m \u001b[0;31m# int value does not breakable, it's not work\u001b[0m\u001b[0;34m\u001b[0m\u001b[0;34m\u001b[0m\u001b[0m\n\u001b[0m\u001b[1;32m      2\u001b[0m \u001b[0my\u001b[0m\u001b[0;34m\u001b[0m\u001b[0;34m\u001b[0m\u001b[0m\n",
            "\u001b[0;31mTypeError\u001b[0m: 'int' object is not iterable"
          ]
        }
      ]
    },
    {
      "cell_type": "code",
      "source": [
        "y.extend(34.234) # float value does not breakable, it's not work\n",
        "y"
      ],
      "metadata": {
        "colab": {
          "base_uri": "https://localhost:8080/",
          "height": 192
        },
        "id": "oXarhSmlQfzJ",
        "outputId": "e6555aa5-b4cc-4b31-d104-7312204ce039"
      },
      "execution_count": 27,
      "outputs": [
        {
          "output_type": "error",
          "ename": "TypeError",
          "evalue": "ignored",
          "traceback": [
            "\u001b[0;31m---------------------------------------------------------------------------\u001b[0m",
            "\u001b[0;31mTypeError\u001b[0m                                 Traceback (most recent call last)",
            "\u001b[0;32m<ipython-input-27-253289aa5111>\u001b[0m in \u001b[0;36m<cell line: 1>\u001b[0;34m()\u001b[0m\n\u001b[0;32m----> 1\u001b[0;31m \u001b[0my\u001b[0m\u001b[0;34m.\u001b[0m\u001b[0mextend\u001b[0m\u001b[0;34m(\u001b[0m\u001b[0;36m34.234\u001b[0m\u001b[0;34m)\u001b[0m \u001b[0;31m# float value does not breakable, it's not work\u001b[0m\u001b[0;34m\u001b[0m\u001b[0;34m\u001b[0m\u001b[0m\n\u001b[0m\u001b[1;32m      2\u001b[0m \u001b[0my\u001b[0m\u001b[0;34m\u001b[0m\u001b[0;34m\u001b[0m\u001b[0m\n",
            "\u001b[0;31mTypeError\u001b[0m: 'float' object is not iterable"
          ]
        }
      ]
    },
    {
      "cell_type": "code",
      "source": [
        "y.extend(True) # bool value does not breakable, it's not work\n",
        "y"
      ],
      "metadata": {
        "colab": {
          "base_uri": "https://localhost:8080/",
          "height": 192
        },
        "id": "ufBa2x62QsxR",
        "outputId": "85ffe6a3-799a-4a5a-d41a-94705d742b88"
      },
      "execution_count": 28,
      "outputs": [
        {
          "output_type": "error",
          "ename": "TypeError",
          "evalue": "ignored",
          "traceback": [
            "\u001b[0;31m---------------------------------------------------------------------------\u001b[0m",
            "\u001b[0;31mTypeError\u001b[0m                                 Traceback (most recent call last)",
            "\u001b[0;32m<ipython-input-28-555297dbdaf6>\u001b[0m in \u001b[0;36m<cell line: 1>\u001b[0;34m()\u001b[0m\n\u001b[0;32m----> 1\u001b[0;31m \u001b[0my\u001b[0m\u001b[0;34m.\u001b[0m\u001b[0mextend\u001b[0m\u001b[0;34m(\u001b[0m\u001b[0;32mTrue\u001b[0m\u001b[0;34m)\u001b[0m \u001b[0;31m# bool value does not breakable, it's not work\u001b[0m\u001b[0;34m\u001b[0m\u001b[0;34m\u001b[0m\u001b[0m\n\u001b[0m\u001b[1;32m      2\u001b[0m \u001b[0my\u001b[0m\u001b[0;34m\u001b[0m\u001b[0;34m\u001b[0m\u001b[0m\n",
            "\u001b[0;31mTypeError\u001b[0m: 'bool' object is not iterable"
          ]
        }
      ]
    },
    {
      "cell_type": "code",
      "source": [
        "y.extend(34-4j) # complex value does not breakable, it's not work\n",
        "y"
      ],
      "metadata": {
        "colab": {
          "base_uri": "https://localhost:8080/",
          "height": 192
        },
        "id": "l5RFxg-AQ_mL",
        "outputId": "4eb3f3c3-6963-41e5-8f8e-fbd3931b1417"
      },
      "execution_count": 29,
      "outputs": [
        {
          "output_type": "error",
          "ename": "TypeError",
          "evalue": "ignored",
          "traceback": [
            "\u001b[0;31m---------------------------------------------------------------------------\u001b[0m",
            "\u001b[0;31mTypeError\u001b[0m                                 Traceback (most recent call last)",
            "\u001b[0;32m<ipython-input-29-5b80fa435c9c>\u001b[0m in \u001b[0;36m<cell line: 1>\u001b[0;34m()\u001b[0m\n\u001b[0;32m----> 1\u001b[0;31m \u001b[0my\u001b[0m\u001b[0;34m.\u001b[0m\u001b[0mextend\u001b[0m\u001b[0;34m(\u001b[0m\u001b[0;36m34\u001b[0m\u001b[0;34m-\u001b[0m\u001b[0;36m4j\u001b[0m\u001b[0;34m)\u001b[0m \u001b[0;31m# complex value does not breakable, it's not work\u001b[0m\u001b[0;34m\u001b[0m\u001b[0;34m\u001b[0m\u001b[0m\n\u001b[0m\u001b[1;32m      2\u001b[0m \u001b[0my\u001b[0m\u001b[0;34m\u001b[0m\u001b[0;34m\u001b[0m\u001b[0m\n",
            "\u001b[0;31mTypeError\u001b[0m: 'complex' object is not iterable"
          ]
        }
      ]
    },
    {
      "cell_type": "code",
      "source": [
        "y.extend([123,\"ranjith\"]) # Break the list and add the values in list for last index\n",
        "y"
      ],
      "metadata": {
        "colab": {
          "base_uri": "https://localhost:8080/"
        },
        "id": "vLv0Fu1QROyg",
        "outputId": "3fb71186-f23c-4244-e470-6d4179110dd7"
      },
      "execution_count": 30,
      "outputs": [
        {
          "output_type": "execute_result",
          "data": {
            "text/plain": [
              "['Ranjith', 5, 'Prem', 98.342, (39-54j), 'a', 'b', 'c', 123, 'ranjith']"
            ]
          },
          "metadata": {},
          "execution_count": 30
        }
      ]
    },
    {
      "cell_type": "markdown",
      "source": [
        "### insert( )\n",
        "insert(index_no,value)\n",
        "* we can insert all data types (int, float, str, bool, complex)\n",
        "* we can insert all data structures (list, dict, set, tuple) also"
      ],
      "metadata": {
        "id": "p9RP-TaDSBdD"
      }
    },
    {
      "cell_type": "code",
      "source": [
        "z = [45.7,\"Tamil\",45-6j,False]\n",
        "z"
      ],
      "metadata": {
        "colab": {
          "base_uri": "https://localhost:8080/"
        },
        "id": "ELXlmQBtSAz6",
        "outputId": "138071c3-b63e-4a7d-f4a4-b1fecee6cd1c"
      },
      "execution_count": 31,
      "outputs": [
        {
          "output_type": "execute_result",
          "data": {
            "text/plain": [
              "[45.7, 'Tamil', (45-6j), False]"
            ]
          },
          "metadata": {},
          "execution_count": 31
        }
      ]
    },
    {
      "cell_type": "code",
      "source": [
        "z.insert(3,\"Prem\") # insert the value speciific index\n",
        "z"
      ],
      "metadata": {
        "colab": {
          "base_uri": "https://localhost:8080/"
        },
        "id": "RsUWW1fgMYKv",
        "outputId": "46d7305e-000d-4930-c0ea-8b19e256a9f2"
      },
      "execution_count": 32,
      "outputs": [
        {
          "output_type": "execute_result",
          "data": {
            "text/plain": [
              "[45.7, 'Tamil', (45-6j), 'Prem', False]"
            ]
          },
          "metadata": {},
          "execution_count": 32
        }
      ]
    },
    {
      "cell_type": "code",
      "source": [
        "z.insert(2,[\"Ranjith\",23]) # we can insert data structures also\n",
        "z"
      ],
      "metadata": {
        "colab": {
          "base_uri": "https://localhost:8080/"
        },
        "id": "JTnEBZSJTlzX",
        "outputId": "5ce47ee4-625d-403e-e2dc-82f1de6b5372"
      },
      "execution_count": 33,
      "outputs": [
        {
          "output_type": "execute_result",
          "data": {
            "text/plain": [
              "[45.7, 'Tamil', ['Ranjith', 23], (45-6j), 'Prem', False]"
            ]
          },
          "metadata": {},
          "execution_count": 33
        }
      ]
    },
    {
      "cell_type": "markdown",
      "source": [
        "**Remove a values to list**\n",
        "* pop( )\n",
        "* remove( )\n",
        "* clear( )\n",
        "* del( )"
      ],
      "metadata": {
        "id": "YOca895lUBYW"
      }
    },
    {
      "cell_type": "code",
      "source": [
        "s = [\"Ranjith\", 23, \"Ariyalur\", True, 147.8]\n",
        "s"
      ],
      "metadata": {
        "colab": {
          "base_uri": "https://localhost:8080/"
        },
        "id": "6djiwWKOUhQ3",
        "outputId": "5e26f545-168d-4f0b-c78e-9302a2850dcb"
      },
      "execution_count": 34,
      "outputs": [
        {
          "output_type": "execute_result",
          "data": {
            "text/plain": [
              "['Ranjith', 23, 'Ariyalur', True, 147.8]"
            ]
          },
          "metadata": {},
          "execution_count": 34
        }
      ]
    },
    {
      "cell_type": "code",
      "source": [
        "s.pop() # defaultly remove the last index value\n",
        "s"
      ],
      "metadata": {
        "colab": {
          "base_uri": "https://localhost:8080/"
        },
        "id": "wV7uNQFfMuBz",
        "outputId": "2ea2b248-48f4-4283-c978-6616bed01785"
      },
      "execution_count": 35,
      "outputs": [
        {
          "output_type": "execute_result",
          "data": {
            "text/plain": [
              "['Ranjith', 23, 'Ariyalur', True]"
            ]
          },
          "metadata": {},
          "execution_count": 35
        }
      ]
    },
    {
      "cell_type": "code",
      "source": [
        "s.pop(0) # we can remove specific index value\n",
        "s"
      ],
      "metadata": {
        "colab": {
          "base_uri": "https://localhost:8080/"
        },
        "id": "v46TGmXCTWf5",
        "outputId": "926d92db-ab21-42bb-d4f4-59e035af9ac5"
      },
      "execution_count": 36,
      "outputs": [
        {
          "output_type": "execute_result",
          "data": {
            "text/plain": [
              "[23, 'Ariyalur', True]"
            ]
          },
          "metadata": {},
          "execution_count": 36
        }
      ]
    },
    {
      "cell_type": "code",
      "source": [
        "s.pop([1:2]) # does not possible slicing\n",
        "s"
      ],
      "metadata": {
        "colab": {
          "base_uri": "https://localhost:8080/",
          "height": 140
        },
        "id": "4yuDEPBCVecv",
        "outputId": "1646df9b-02e0-4508-998a-e0623e53b4c8"
      },
      "execution_count": 37,
      "outputs": [
        {
          "output_type": "error",
          "ename": "SyntaxError",
          "evalue": "ignored",
          "traceback": [
            "\u001b[0;36m  File \u001b[0;32m\"<ipython-input-37-cf95c695f9df>\"\u001b[0;36m, line \u001b[0;32m1\u001b[0m\n\u001b[0;31m    s.pop([1:3]) # does not possible slicing\u001b[0m\n\u001b[0m            ^\u001b[0m\n\u001b[0;31mSyntaxError\u001b[0m\u001b[0;31m:\u001b[0m invalid syntax\n"
          ]
        }
      ]
    },
    {
      "cell_type": "code",
      "source": [
        "s.remove(True) # remove the specific value\n",
        "s"
      ],
      "metadata": {
        "colab": {
          "base_uri": "https://localhost:8080/"
        },
        "id": "qE7uxZsEVtkx",
        "outputId": "a3f041ba-c05b-4d75-8f79-15075b5fd826"
      },
      "execution_count": 38,
      "outputs": [
        {
          "output_type": "execute_result",
          "data": {
            "text/plain": [
              "[23, 'Ariyalur']"
            ]
          },
          "metadata": {},
          "execution_count": 38
        }
      ]
    },
    {
      "cell_type": "code",
      "source": [
        "s.clear() # remove the all items in the list\n",
        "s"
      ],
      "metadata": {
        "colab": {
          "base_uri": "https://localhost:8080/"
        },
        "id": "Ba3a-TmwW2H6",
        "outputId": "e9932058-2a56-470c-d8b5-9c9a208fbaa5"
      },
      "execution_count": 39,
      "outputs": [
        {
          "output_type": "execute_result",
          "data": {
            "text/plain": [
              "[]"
            ]
          },
          "metadata": {},
          "execution_count": 39
        }
      ]
    },
    {
      "cell_type": "code",
      "source": [
        "del(s) # delete the list"
      ],
      "metadata": {
        "id": "eeOeMDWZXdGg"
      },
      "execution_count": 40,
      "outputs": []
    },
    {
      "cell_type": "code",
      "source": [
        "s"
      ],
      "metadata": {
        "colab": {
          "base_uri": "https://localhost:8080/",
          "height": 175
        },
        "id": "xgMynN6mX1iI",
        "outputId": "bcaaaea2-a591-4a03-a34d-183c930dfb90"
      },
      "execution_count": 41,
      "outputs": [
        {
          "output_type": "error",
          "ename": "NameError",
          "evalue": "ignored",
          "traceback": [
            "\u001b[0;31m---------------------------------------------------------------------------\u001b[0m",
            "\u001b[0;31mNameError\u001b[0m                                 Traceback (most recent call last)",
            "\u001b[0;32m<ipython-input-41-ded5ba42480f>\u001b[0m in \u001b[0;36m<cell line: 1>\u001b[0;34m()\u001b[0m\n\u001b[0;32m----> 1\u001b[0;31m \u001b[0ms\u001b[0m\u001b[0;34m\u001b[0m\u001b[0;34m\u001b[0m\u001b[0m\n\u001b[0m",
            "\u001b[0;31mNameError\u001b[0m: name 's' is not defined"
          ]
        }
      ]
    },
    {
      "cell_type": "markdown",
      "source": [
        "Additional functions in list\n",
        "* sort( )\n",
        "* reverse( ) \\\n",
        "Both are worked in same data type lists"
      ],
      "metadata": {
        "id": "q-ApVpSMYDuZ"
      }
    },
    {
      "cell_type": "code",
      "source": [
        "Num = [2,3,3.5,67,8,20,456-4,5754,765,2,556+5,-2,-34.5,-243.5]\n",
        "Num"
      ],
      "metadata": {
        "colab": {
          "base_uri": "https://localhost:8080/"
        },
        "id": "I_te8WU4YVQ4",
        "outputId": "76857e44-d673-4fd8-8e7f-cdeff47c6a9a"
      },
      "execution_count": 42,
      "outputs": [
        {
          "output_type": "execute_result",
          "data": {
            "text/plain": [
              "[2, 3, 3.5, 67, 8, 20, 452, 5754, 765, 2, 561, -2, -34.5, -243.5]"
            ]
          },
          "metadata": {},
          "execution_count": 42
        }
      ]
    },
    {
      "cell_type": "code",
      "source": [
        "Num.sort() # values in ascending order\n",
        "Num"
      ],
      "metadata": {
        "colab": {
          "base_uri": "https://localhost:8080/"
        },
        "id": "XQQlmvwjYk62",
        "outputId": "f7befa33-c223-41f3-b2e6-dda1fe1e272a"
      },
      "execution_count": 43,
      "outputs": [
        {
          "output_type": "execute_result",
          "data": {
            "text/plain": [
              "[-243.5, -34.5, -2, 2, 2, 3, 3.5, 8, 20, 67, 452, 561, 765, 5754]"
            ]
          },
          "metadata": {},
          "execution_count": 43
        }
      ]
    },
    {
      "cell_type": "code",
      "source": [
        "Num.reverse() # values in decending order\n",
        "Num"
      ],
      "metadata": {
        "colab": {
          "base_uri": "https://localhost:8080/"
        },
        "id": "JRhG1AxvZFV2",
        "outputId": "2fd4401d-fd64-4c7d-ce4a-7317e9ec0468"
      },
      "execution_count": 44,
      "outputs": [
        {
          "output_type": "execute_result",
          "data": {
            "text/plain": [
              "[5754, 765, 561, 452, 67, 20, 8, 3.5, 3, 2, 2, -2, -34.5, -243.5]"
            ]
          },
          "metadata": {},
          "execution_count": 44
        }
      ]
    },
    {
      "cell_type": "code",
      "source": [
        "alp = [\"a\",\"d\",\"g\",\"rre\",\"rt\",\"f\",\"h\",\"j\",\"d\",\"s\"]\n",
        "alp"
      ],
      "metadata": {
        "colab": {
          "base_uri": "https://localhost:8080/"
        },
        "id": "V06w46TLZzf_",
        "outputId": "802fefee-1d46-44f6-a1c8-ad7f23383491"
      },
      "execution_count": 45,
      "outputs": [
        {
          "output_type": "execute_result",
          "data": {
            "text/plain": [
              "['a', 'd', 'g', 'rre', 'rt', 'f', 'h', 'j', 'd', 's']"
            ]
          },
          "metadata": {},
          "execution_count": 45
        }
      ]
    },
    {
      "cell_type": "code",
      "source": [
        "alp.sort()\n",
        "alp"
      ],
      "metadata": {
        "colab": {
          "base_uri": "https://localhost:8080/"
        },
        "id": "WjSnfpMyaNAg",
        "outputId": "e0583594-3d84-45a0-df79-c8ec55de8dbb"
      },
      "execution_count": 46,
      "outputs": [
        {
          "output_type": "execute_result",
          "data": {
            "text/plain": [
              "['a', 'd', 'd', 'f', 'g', 'h', 'j', 'rre', 'rt', 's']"
            ]
          },
          "metadata": {},
          "execution_count": 46
        }
      ]
    },
    {
      "cell_type": "code",
      "source": [
        "alp.reverse()\n",
        "alp"
      ],
      "metadata": {
        "colab": {
          "base_uri": "https://localhost:8080/"
        },
        "id": "LoLBqv7waiKv",
        "outputId": "4a48e299-222d-4b56-c96b-c32476c79e02"
      },
      "execution_count": 47,
      "outputs": [
        {
          "output_type": "execute_result",
          "data": {
            "text/plain": [
              "['s', 'rt', 'rre', 'j', 'h', 'g', 'f', 'd', 'd', 'a']"
            ]
          },
          "metadata": {},
          "execution_count": 47
        }
      ]
    },
    {
      "cell_type": "code",
      "source": [],
      "metadata": {
        "id": "Vpjhuj9oULZ-"
      },
      "execution_count": null,
      "outputs": []
    }
  ]
}
