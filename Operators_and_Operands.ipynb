{
  "nbformat": 4,
  "nbformat_minor": 0,
  "metadata": {
    "anaconda-cloud": {},
    "kernelspec": {
      "display_name": "Python 3",
      "language": "python",
      "name": "python3"
    },
    "language_info": {
      "codemirror_mode": {
        "name": "ipython",
        "version": 3
      },
      "file_extension": ".py",
      "mimetype": "text/x-python",
      "name": "python",
      "nbconvert_exporter": "python",
      "pygments_lexer": "ipython3",
      "version": "3.6.4"
    },
    "colab": {
      "provenance": [],
      "include_colab_link": true
    }
  },
  "cells": [
    {
      "cell_type": "markdown",
      "metadata": {
        "id": "view-in-github",
        "colab_type": "text"
      },
      "source": [
        "<a href=\"https://colab.research.google.com/github/Ranjith5720/Python/blob/main/Operators_and_Operands.ipynb\" target=\"_parent\"><img src=\"https://colab.research.google.com/assets/colab-badge.svg\" alt=\"Open In Colab\"/></a>"
      ]
    },
    {
      "cell_type": "markdown",
      "source": [
        "**Arithmatic Operators**\n",
        "*  Addition (+)\n",
        "*  Subtraction (-)\n",
        "*  Multiplication / Asteric (*)\n",
        "*  Devision (/)\n",
        "*  Floor Devision (//)\n",
        "*  Reminder Devsion (%)\n",
        "*  Exponential / Power Operator (**)\n"
      ],
      "metadata": {
        "id": "bnbmyVKPVaE8"
      }
    },
    {
      "cell_type": "markdown",
      "source": [
        "BODMAS = Bracket, Of the value, Division, Multiplication, Addition , Subtraction"
      ],
      "metadata": {
        "id": "5E8H3Pa0YxiT"
      }
    },
    {
      "cell_type": "code",
      "metadata": {
        "id": "jmpD6V9dKVVg",
        "outputId": "a98ae5fb-3a34-484b-dee5-73ef575c0271",
        "colab": {
          "base_uri": "https://localhost:8080/"
        }
      },
      "source": [
        "5 + 6"
      ],
      "execution_count": 2,
      "outputs": [
        {
          "output_type": "execute_result",
          "data": {
            "text/plain": [
              "11"
            ]
          },
          "metadata": {},
          "execution_count": 2
        }
      ]
    },
    {
      "cell_type": "code",
      "metadata": {
        "id": "1JjAQxGAKVVl",
        "outputId": "9645b2f7-341c-44f2-b010-3dbcaa9861c7",
        "colab": {
          "base_uri": "https://localhost:8080/"
        }
      },
      "source": [
        "5 -2"
      ],
      "execution_count": 3,
      "outputs": [
        {
          "output_type": "execute_result",
          "data": {
            "text/plain": [
              "3"
            ]
          },
          "metadata": {},
          "execution_count": 3
        }
      ]
    },
    {
      "cell_type": "code",
      "source": [
        "5 * 5\n"
      ],
      "metadata": {
        "colab": {
          "base_uri": "https://localhost:8080/"
        },
        "id": "2JkP6PJFtNvA",
        "outputId": "f7aa30dd-6870-4ec4-c208-8a23f5989221"
      },
      "execution_count": 4,
      "outputs": [
        {
          "output_type": "execute_result",
          "data": {
            "text/plain": [
              "25"
            ]
          },
          "metadata": {},
          "execution_count": 4
        }
      ]
    },
    {
      "cell_type": "code",
      "metadata": {
        "id": "rYYnJwcCKVVl",
        "outputId": "43903c12-113f-4940-8b99-a2b2fb2adb80",
        "colab": {
          "base_uri": "https://localhost:8080/"
        }
      },
      "source": [
        "15 / 3"
      ],
      "execution_count": 5,
      "outputs": [
        {
          "output_type": "execute_result",
          "data": {
            "text/plain": [
              "5.0"
            ]
          },
          "metadata": {},
          "execution_count": 5
        }
      ]
    },
    {
      "cell_type": "code",
      "metadata": {
        "scrolled": true,
        "id": "5ddnQZe5KVVm",
        "outputId": "d133e7ce-9043-4f49-9d0a-765a87358fc3",
        "colab": {
          "base_uri": "https://localhost:8080/"
        }
      },
      "source": [
        "17 // 3"
      ],
      "execution_count": 7,
      "outputs": [
        {
          "output_type": "execute_result",
          "data": {
            "text/plain": [
              "5"
            ]
          },
          "metadata": {},
          "execution_count": 7
        }
      ]
    },
    {
      "cell_type": "code",
      "metadata": {
        "id": "soUqh-dFKVVn",
        "outputId": "995df8f6-cccb-4fda-817d-6c741215f641",
        "colab": {
          "base_uri": "https://localhost:8080/"
        }
      },
      "source": [
        "17 % 3"
      ],
      "execution_count": 9,
      "outputs": [
        {
          "output_type": "execute_result",
          "data": {
            "text/plain": [
              "2"
            ]
          },
          "metadata": {},
          "execution_count": 9
        }
      ]
    },
    {
      "cell_type": "code",
      "source": [
        "3**4"
      ],
      "metadata": {
        "colab": {
          "base_uri": "https://localhost:8080/"
        },
        "id": "aIoiyvrfZa3b",
        "outputId": "f0c038d1-d8eb-490c-b397-b98b0658383f"
      },
      "execution_count": 10,
      "outputs": [
        {
          "output_type": "execute_result",
          "data": {
            "text/plain": [
              "81"
            ]
          },
          "metadata": {},
          "execution_count": 10
        }
      ]
    },
    {
      "cell_type": "markdown",
      "source": [
        "**Comparision Operators**\n",
        "*  Assing Operator (=)\n",
        "*  Not Equal (!=)\n",
        "*  Introgative Operator (==)\n",
        "*  less than (<)\n",
        "*  greater than (>)\n",
        "*  less than or equal (<=)\n",
        "*  greater than or equal (>=)"
      ],
      "metadata": {
        "id": "doFWb_xkdi-R"
      }
    },
    {
      "cell_type": "code",
      "source": [
        "a = 57\n",
        "a"
      ],
      "metadata": {
        "colab": {
          "base_uri": "https://localhost:8080/"
        },
        "id": "UzyEe8B5az5V",
        "outputId": "d0756459-5136-443e-d2ad-8e6f3dde17e0"
      },
      "execution_count": 12,
      "outputs": [
        {
          "output_type": "execute_result",
          "data": {
            "text/plain": [
              "57"
            ]
          },
          "metadata": {},
          "execution_count": 12
        }
      ]
    },
    {
      "cell_type": "code",
      "source": [
        "a == 50"
      ],
      "metadata": {
        "colab": {
          "base_uri": "https://localhost:8080/"
        },
        "id": "vPhwe8oGa38o",
        "outputId": "303efe1d-7906-4792-d6dd-4f622969ca70"
      },
      "execution_count": 13,
      "outputs": [
        {
          "output_type": "execute_result",
          "data": {
            "text/plain": [
              "False"
            ]
          },
          "metadata": {},
          "execution_count": 13
        }
      ]
    },
    {
      "cell_type": "code",
      "source": [
        "a != 50"
      ],
      "metadata": {
        "colab": {
          "base_uri": "https://localhost:8080/"
        },
        "id": "hDABLeg4a_UV",
        "outputId": "f97d3543-2758-4583-8599-5ce1da2aaf59"
      },
      "execution_count": 14,
      "outputs": [
        {
          "output_type": "execute_result",
          "data": {
            "text/plain": [
              "True"
            ]
          },
          "metadata": {},
          "execution_count": 14
        }
      ]
    },
    {
      "cell_type": "code",
      "source": [
        "2 < 6"
      ],
      "metadata": {
        "colab": {
          "base_uri": "https://localhost:8080/"
        },
        "id": "Q4oz1zB6ePbK",
        "outputId": "693e01b0-76b1-41c6-8083-75df753037c5"
      },
      "execution_count": 15,
      "outputs": [
        {
          "output_type": "execute_result",
          "data": {
            "text/plain": [
              "True"
            ]
          },
          "metadata": {},
          "execution_count": 15
        }
      ]
    },
    {
      "cell_type": "code",
      "source": [
        "2 > 6"
      ],
      "metadata": {
        "colab": {
          "base_uri": "https://localhost:8080/"
        },
        "id": "h48ikLFeeijw",
        "outputId": "8a73fe7c-5543-4d8c-fef9-534e5a0a5e19"
      },
      "execution_count": 16,
      "outputs": [
        {
          "output_type": "execute_result",
          "data": {
            "text/plain": [
              "False"
            ]
          },
          "metadata": {},
          "execution_count": 16
        }
      ]
    },
    {
      "cell_type": "code",
      "source": [
        "5 <= 3+2"
      ],
      "metadata": {
        "colab": {
          "base_uri": "https://localhost:8080/"
        },
        "id": "OReRuRjkemL4",
        "outputId": "456cb0d7-c536-42b5-f161-ab15e20aae90"
      },
      "execution_count": 17,
      "outputs": [
        {
          "output_type": "execute_result",
          "data": {
            "text/plain": [
              "True"
            ]
          },
          "metadata": {},
          "execution_count": 17
        }
      ]
    },
    {
      "cell_type": "code",
      "source": [
        "5 >= 3+2"
      ],
      "metadata": {
        "colab": {
          "base_uri": "https://localhost:8080/"
        },
        "id": "9I5tLkkZfWWu",
        "outputId": "091500f3-fb36-4e2c-896f-a9592e343636"
      },
      "execution_count": 18,
      "outputs": [
        {
          "output_type": "execute_result",
          "data": {
            "text/plain": [
              "True"
            ]
          },
          "metadata": {},
          "execution_count": 18
        }
      ]
    },
    {
      "cell_type": "markdown",
      "source": [
        "**Logical Operators**\n",
        "*  and (*)\n",
        "*  or (+)\n",
        "*  not\n",
        "*  is\n",
        "*  is not"
      ],
      "metadata": {
        "id": "HeBsWP5ufkw5"
      }
    },
    {
      "cell_type": "code",
      "source": [
        "True and True # 1 * 1 = 1"
      ],
      "metadata": {
        "colab": {
          "base_uri": "https://localhost:8080/"
        },
        "id": "kvys0u3VhIJ7",
        "outputId": "def802e9-4266-4503-97d5-2f4550ccb885"
      },
      "execution_count": 22,
      "outputs": [
        {
          "output_type": "execute_result",
          "data": {
            "text/plain": [
              "True"
            ]
          },
          "metadata": {},
          "execution_count": 22
        }
      ]
    },
    {
      "cell_type": "code",
      "source": [
        "True or True # 1 + 1 = 2"
      ],
      "metadata": {
        "colab": {
          "base_uri": "https://localhost:8080/"
        },
        "id": "Pjidtl5SheqC",
        "outputId": "1c49e883-2101-4f38-938a-fb2f6ca16677"
      },
      "execution_count": 25,
      "outputs": [
        {
          "output_type": "execute_result",
          "data": {
            "text/plain": [
              "True"
            ]
          },
          "metadata": {},
          "execution_count": 25
        }
      ]
    },
    {
      "cell_type": "code",
      "source": [
        "True not True"
      ],
      "metadata": {
        "colab": {
          "base_uri": "https://localhost:8080/",
          "height": 140
        },
        "id": "VVrhijvsh7Io",
        "outputId": "978dc964-616e-45c0-baf4-65be14acc37e"
      },
      "execution_count": 28,
      "outputs": [
        {
          "output_type": "error",
          "ename": "SyntaxError",
          "evalue": "ignored",
          "traceback": [
            "\u001b[0;36m  File \u001b[0;32m\"<ipython-input-28-274e29344f32>\"\u001b[0;36m, line \u001b[0;32m1\u001b[0m\n\u001b[0;31m    True not True\u001b[0m\n\u001b[0m             ^\u001b[0m\n\u001b[0;31mSyntaxError\u001b[0m\u001b[0;31m:\u001b[0m invalid syntax\n"
          ]
        }
      ]
    },
    {
      "cell_type": "code",
      "source": [
        "True is True"
      ],
      "metadata": {
        "colab": {
          "base_uri": "https://localhost:8080/"
        },
        "id": "GIHOWn8UiKd0",
        "outputId": "c4673e2e-a587-4147-e16d-cd9b41877d11"
      },
      "execution_count": 29,
      "outputs": [
        {
          "output_type": "execute_result",
          "data": {
            "text/plain": [
              "True"
            ]
          },
          "metadata": {},
          "execution_count": 29
        }
      ]
    },
    {
      "cell_type": "code",
      "source": [
        "True is not True"
      ],
      "metadata": {
        "colab": {
          "base_uri": "https://localhost:8080/"
        },
        "id": "EVixXvLnikvy",
        "outputId": "918ea6fe-ed48-41e8-c960-0811c2e44e72"
      },
      "execution_count": 30,
      "outputs": [
        {
          "output_type": "execute_result",
          "data": {
            "text/plain": [
              "False"
            ]
          },
          "metadata": {},
          "execution_count": 30
        }
      ]
    },
    {
      "cell_type": "code",
      "metadata": {
        "colab": {
          "base_uri": "https://localhost:8080/"
        },
        "id": "M6wuSMzKuT41",
        "outputId": "03a7a04d-157e-48f9-9389-b5d90fc37f24"
      },
      "source": [
        "True or True and False  # 1 + 1 * 0 = 1"
      ],
      "execution_count": 20,
      "outputs": [
        {
          "output_type": "execute_result",
          "data": {
            "text/plain": [
              "True"
            ]
          },
          "metadata": {},
          "execution_count": 20
        }
      ]
    }
  ]
}