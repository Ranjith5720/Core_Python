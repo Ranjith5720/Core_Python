{
  "nbformat": 4,
  "nbformat_minor": 0,
  "metadata": {
    "colab": {
      "provenance": [],
      "authorship_tag": "ABX9TyP9gPOhEvfI1zhOkIBZU1rs",
      "include_colab_link": true
    },
    "kernelspec": {
      "name": "python3",
      "display_name": "Python 3"
    },
    "language_info": {
      "name": "python"
    }
  },
  "cells": [
    {
      "cell_type": "markdown",
      "metadata": {
        "id": "view-in-github",
        "colab_type": "text"
      },
      "source": [
        "<a href=\"https://colab.research.google.com/github/Ranjith5720/Python/blob/main/Looping_for.ipynb\" target=\"_parent\"><img src=\"https://colab.research.google.com/assets/colab-badge.svg\" alt=\"Open In Colab\"/></a>"
      ]
    },
    {
      "cell_type": "markdown",
      "source": [
        "### **For Loop :** ( Pre defined )\n",
        "**Syntax :**  \n",
        "**for** ( keyword ) **i** ( iterative variable ) **in** ( keyword ) **sequence : logic**"
      ],
      "metadata": {
        "id": "uFoHC2mrsOPb"
      }
    },
    {
      "cell_type": "code",
      "execution_count": 12,
      "metadata": {
        "colab": {
          "base_uri": "https://localhost:8080/"
        },
        "id": "51O9Ctx7rjKA",
        "outputId": "4ffa46c4-d4a0-4a07-c3f0-af00aa575c2c"
      },
      "outputs": [
        {
          "output_type": "stream",
          "name": "stdout",
          "text": [
            "Ranjith\n",
            "23\n",
            "147.6\n",
            "Ariyalur\n"
          ]
        }
      ],
      "source": [
        "a = [\"Ranjith\", 23, 147.6, \"Ariyalur\"] # list\n",
        "for i in a:\n",
        "  print(i)"
      ]
    },
    {
      "cell_type": "code",
      "source": [
        "b = (\"Ranjith\", 23, 147.6, \"Ariyalur\") # tuple\n",
        "for i in b:\n",
        "  print(i)"
      ],
      "metadata": {
        "colab": {
          "base_uri": "https://localhost:8080/"
        },
        "id": "9zp--fp1zols",
        "outputId": "27078828-d2e1-4db1-dfbf-e08fe2928d55"
      },
      "execution_count": 13,
      "outputs": [
        {
          "output_type": "stream",
          "name": "stdout",
          "text": [
            "Ranjith\n",
            "23\n",
            "147.6\n",
            "Ariyalur\n"
          ]
        }
      ]
    },
    {
      "cell_type": "code",
      "source": [
        "c = {\"Ranjith\", 23, 147.6, \"Ariyalur\"} # set\n",
        "for i in c:\n",
        "  print(i)"
      ],
      "metadata": {
        "colab": {
          "base_uri": "https://localhost:8080/"
        },
        "id": "BSop_fiPzxns",
        "outputId": "d0660ca7-d1cc-47f2-df40-a5b45d1a1f23"
      },
      "execution_count": 14,
      "outputs": [
        {
          "output_type": "stream",
          "name": "stdout",
          "text": [
            "Ariyalur\n",
            "147.6\n",
            "Ranjith\n",
            "23\n"
          ]
        }
      ]
    },
    {
      "cell_type": "code",
      "source": [
        "d = {1:\"Ranjith\", 2:23, 3:147.6, 4:\"Ariyalur\"} # dict\n",
        "for i in d.items():\n",
        "  print(i)"
      ],
      "metadata": {
        "colab": {
          "base_uri": "https://localhost:8080/"
        },
        "id": "VDmAXPTv0sS7",
        "outputId": "aa4f4a39-7cea-4327-cc3b-f449ee58f93b"
      },
      "execution_count": 15,
      "outputs": [
        {
          "output_type": "stream",
          "name": "stdout",
          "text": [
            "(1, 'Ranjith')\n",
            "(2, 23)\n",
            "(3, 147.6)\n",
            "(4, 'Ariyalur')\n"
          ]
        }
      ]
    },
    {
      "cell_type": "code",
      "source": [
        "for i in range(8): # range(start = 0 (defaultly), end = n-1)\n",
        "  print(i)"
      ],
      "metadata": {
        "colab": {
          "base_uri": "https://localhost:8080/"
        },
        "id": "WyOgsYyL1BTj",
        "outputId": "c164c4f8-13b2-4f16-cdf3-781208e7dc10"
      },
      "execution_count": 16,
      "outputs": [
        {
          "output_type": "stream",
          "name": "stdout",
          "text": [
            "0\n",
            "1\n",
            "2\n",
            "3\n",
            "4\n",
            "5\n",
            "6\n",
            "7\n"
          ]
        }
      ]
    },
    {
      "cell_type": "code",
      "source": [
        "for i in range(3,9): # range(start, end = (n-1))\n",
        "  print(i)"
      ],
      "metadata": {
        "colab": {
          "base_uri": "https://localhost:8080/"
        },
        "id": "2XUIoMkK2q7F",
        "outputId": "07a949f0-87bf-490d-b251-0a4086f0cd1b"
      },
      "execution_count": 17,
      "outputs": [
        {
          "output_type": "stream",
          "name": "stdout",
          "text": [
            "3\n",
            "4\n",
            "5\n",
            "6\n",
            "7\n",
            "8\n"
          ]
        }
      ]
    },
    {
      "cell_type": "code",
      "source": [
        "for i in range(2,17,2): # range(start, end = n-1, step)\n",
        "  print(i)"
      ],
      "metadata": {
        "colab": {
          "base_uri": "https://localhost:8080/"
        },
        "id": "_6RXFKnj4E2Y",
        "outputId": "3f12fdc5-1816-4967-eea1-8aef28264675"
      },
      "execution_count": 18,
      "outputs": [
        {
          "output_type": "stream",
          "name": "stdout",
          "text": [
            "2\n",
            "4\n",
            "6\n",
            "8\n",
            "10\n",
            "12\n",
            "14\n",
            "16\n"
          ]
        }
      ]
    },
    {
      "cell_type": "code",
      "source": [
        "x = 0\n",
        "for i in range(1,5,1): # 1 + 2 + 3 + 4 = 10\n",
        "  x = x + i\n",
        "print(x)"
      ],
      "metadata": {
        "colab": {
          "base_uri": "https://localhost:8080/"
        },
        "id": "C6BP24q74i6N",
        "outputId": "69dc38b0-8b6e-457f-dd23-d6b60ac99cb8"
      },
      "execution_count": 19,
      "outputs": [
        {
          "output_type": "stream",
          "name": "stdout",
          "text": [
            "10\n"
          ]
        }
      ]
    },
    {
      "cell_type": "code",
      "source": [
        "y = [12, 4, 3, 98, 31, 23, 42, 76]\n",
        "for i in y:\n",
        "  if i % 2 == 0:\n",
        "    print(i, \"is Even Number\")\n",
        "  else:\n",
        "    print(i, \"is Odd Number\")"
      ],
      "metadata": {
        "colab": {
          "base_uri": "https://localhost:8080/"
        },
        "id": "Sj0CSTBy7aOn",
        "outputId": "55d42694-973c-4c23-d6ef-d6f6ff6d306d"
      },
      "execution_count": 20,
      "outputs": [
        {
          "output_type": "stream",
          "name": "stdout",
          "text": [
            "12 is Even Number\n",
            "4 is Even Number\n",
            "3 is Odd Number\n",
            "98 is Even Number\n",
            "31 is Odd Number\n",
            "23 is Odd Number\n",
            "42 is Even Number\n",
            "76 is Even Number\n"
          ]
        }
      ]
    },
    {
      "cell_type": "code",
      "source": [
        "for i in range(11):\n",
        "  print(i*5)"
      ],
      "metadata": {
        "colab": {
          "base_uri": "https://localhost:8080/"
        },
        "id": "cfrL_VVa9mwJ",
        "outputId": "66c8f558-8d1a-4a33-d7f3-cae19efaa709"
      },
      "execution_count": 21,
      "outputs": [
        {
          "output_type": "stream",
          "name": "stdout",
          "text": [
            "0\n",
            "5\n",
            "10\n",
            "15\n",
            "20\n",
            "25\n",
            "30\n",
            "35\n",
            "40\n",
            "45\n",
            "50\n"
          ]
        }
      ]
    }
  ]
}