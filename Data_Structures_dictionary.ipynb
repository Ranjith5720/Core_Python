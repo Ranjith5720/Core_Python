{
  "nbformat": 4,
  "nbformat_minor": 0,
  "metadata": {
    "colab": {
      "provenance": [],
      "authorship_tag": "ABX9TyMetMxRxQQ77kU9AYN6pNdW",
      "include_colab_link": true
    },
    "kernelspec": {
      "name": "python3",
      "display_name": "Python 3"
    },
    "language_info": {
      "name": "python"
    }
  },
  "cells": [
    {
      "cell_type": "markdown",
      "metadata": {
        "id": "view-in-github",
        "colab_type": "text"
      },
      "source": [
        "<a href=\"https://colab.research.google.com/github/Ranjith5720/Python/blob/main/Data_Structures_dictionary.ipynb\" target=\"_parent\"><img src=\"https://colab.research.google.com/assets/colab-badge.svg\" alt=\"Open In Colab\"/></a>"
      ]
    },
    {
      "cell_type": "markdown",
      "source": [
        "### **Dictionary**\n",
        "**Syntax:**\n",
        "{ key : value }\n",
        "- Dictionary stores element as keys & value pairs.\n",
        "- Each key is followed by a value separated by a colon.\n",
        "- Each key & value pair is separated by comma enclosed inside curly brackets."
      ],
      "metadata": {
        "id": "nVPODZAgsmC_"
      }
    },
    {
      "cell_type": "code",
      "execution_count": 74,
      "metadata": {
        "colab": {
          "base_uri": "https://localhost:8080/"
        },
        "id": "YcB1mSEYlYBG",
        "outputId": "b354fa20-088f-424b-81a9-5cecbdd640de"
      },
      "outputs": [
        {
          "output_type": "execute_result",
          "data": {
            "text/plain": [
              "dict"
            ]
          },
          "metadata": {},
          "execution_count": 74
        }
      ],
      "source": [
        "a = {} # Empty dictionary is possible\n",
        "type(a)"
      ]
    },
    {
      "cell_type": "code",
      "source": [
        "b = {1 : 23, 2.5 : \"Ranjith\", \"hight\" : 147.8, 3+5j : True, False : 2-9j } # Dictionary accepts all data types. It can be anything is a key & value\n",
        "b"
      ],
      "metadata": {
        "colab": {
          "base_uri": "https://localhost:8080/"
        },
        "id": "OEYVMxbyv0O4",
        "outputId": "cc0bbd64-55aa-4185-fff5-7bef2f9212f6"
      },
      "execution_count": 75,
      "outputs": [
        {
          "output_type": "execute_result",
          "data": {
            "text/plain": [
              "{1: 23, 2.5: 'Ranjith', 'hight': 147.8, (3+5j): True, False: (2-9j)}"
            ]
          },
          "metadata": {},
          "execution_count": 75
        }
      ]
    },
    {
      "cell_type": "code",
      "source": [
        "b[0] # The key is like an index. It's always unique & immutable. values are accessed using their keys. where, 0 is False(Key)"
      ],
      "metadata": {
        "id": "nv8O6tYuxBHS",
        "colab": {
          "base_uri": "https://localhost:8080/"
        },
        "outputId": "4ddb6063-5773-4b41-ec66-18f158987135"
      },
      "execution_count": 76,
      "outputs": [
        {
          "output_type": "execute_result",
          "data": {
            "text/plain": [
              "(2-9j)"
            ]
          },
          "metadata": {},
          "execution_count": 76
        }
      ]
    },
    {
      "cell_type": "code",
      "source": [
        "len(b) # Dictionary is countable"
      ],
      "metadata": {
        "colab": {
          "base_uri": "https://localhost:8080/"
        },
        "id": "qZrZHsPZzphN",
        "outputId": "ff546fe6-998b-4bba-e82b-7758b502d101"
      },
      "execution_count": 77,
      "outputs": [
        {
          "output_type": "execute_result",
          "data": {
            "text/plain": [
              "5"
            ]
          },
          "metadata": {},
          "execution_count": 77
        }
      ]
    },
    {
      "cell_type": "code",
      "source": [
        "b.keys() # Only display the keys in Dictionary"
      ],
      "metadata": {
        "colab": {
          "base_uri": "https://localhost:8080/"
        },
        "id": "n4c432bN0TWj",
        "outputId": "b7b017b5-e716-4d87-a224-32cffe2f52a2"
      },
      "execution_count": 78,
      "outputs": [
        {
          "output_type": "execute_result",
          "data": {
            "text/plain": [
              "dict_keys([1, 2.5, 'hight', (3+5j), False])"
            ]
          },
          "metadata": {},
          "execution_count": 78
        }
      ]
    },
    {
      "cell_type": "code",
      "source": [
        "b.values() # Only display the values in Dictionary"
      ],
      "metadata": {
        "colab": {
          "base_uri": "https://localhost:8080/"
        },
        "id": "ndG8hDI00qXV",
        "outputId": "9c3be43a-9516-4f39-d3fe-ce94534ea33c"
      },
      "execution_count": 79,
      "outputs": [
        {
          "output_type": "execute_result",
          "data": {
            "text/plain": [
              "dict_values([23, 'Ranjith', 147.8, True, (2-9j)])"
            ]
          },
          "metadata": {},
          "execution_count": 79
        }
      ]
    },
    {
      "cell_type": "code",
      "source": [
        "b.items() # Display both keys & values in Dictionary"
      ],
      "metadata": {
        "colab": {
          "base_uri": "https://localhost:8080/"
        },
        "id": "Rj4g3jUp00RR",
        "outputId": "f9ce561c-0cb5-4a78-fd17-4bf8ff7eb1ff"
      },
      "execution_count": 80,
      "outputs": [
        {
          "output_type": "execute_result",
          "data": {
            "text/plain": [
              "dict_items([(1, 23), (2.5, 'Ranjith'), ('hight', 147.8), ((3+5j), True), (False, (2-9j))])"
            ]
          },
          "metadata": {},
          "execution_count": 80
        }
      ]
    },
    {
      "cell_type": "code",
      "source": [
        "x = {\"a\" : [21,4,\"Prem\"], \"b\" : {1:23,2:45.5}, \"c\" : {1,2,3,3,2,4,5}, \"d\" : (1,2.2,3,3,4,5)} # Dictionary accept the all Data Structures\n",
        "x"
      ],
      "metadata": {
        "colab": {
          "base_uri": "https://localhost:8080/"
        },
        "id": "szz2A4CW1GLa",
        "outputId": "f8c42c60-fb91-48ff-e1a8-fd166cd09d87"
      },
      "execution_count": 81,
      "outputs": [
        {
          "output_type": "execute_result",
          "data": {
            "text/plain": [
              "{'a': [21, 4, 'Prem'],\n",
              " 'b': {1: 23, 2: 45.5},\n",
              " 'c': {1, 2, 3, 4, 5},\n",
              " 'd': (1, 2.2, 3, 3, 4, 5)}"
            ]
          },
          "metadata": {},
          "execution_count": 81
        }
      ]
    },
    {
      "cell_type": "code",
      "source": [
        "x[\"a\"] # Access the value using key"
      ],
      "metadata": {
        "colab": {
          "base_uri": "https://localhost:8080/"
        },
        "id": "nG27zCgx3Bpv",
        "outputId": "51d2c01c-100f-41a2-dfb0-043a2ac482cf"
      },
      "execution_count": 82,
      "outputs": [
        {
          "output_type": "execute_result",
          "data": {
            "text/plain": [
              "[21, 4, 'Prem']"
            ]
          },
          "metadata": {},
          "execution_count": 82
        }
      ]
    },
    {
      "cell_type": "code",
      "source": [
        "x.get(\"d\") # Access the value using get()"
      ],
      "metadata": {
        "colab": {
          "base_uri": "https://localhost:8080/"
        },
        "id": "2YBuMQOp7bl8",
        "outputId": "2e2364d8-7612-480b-acc2-49b4557ebd17"
      },
      "execution_count": 83,
      "outputs": [
        {
          "output_type": "execute_result",
          "data": {
            "text/plain": [
              "(1, 2.2, 3, 3, 4, 5)"
            ]
          },
          "metadata": {},
          "execution_count": 83
        }
      ]
    },
    {
      "cell_type": "code",
      "source": [
        "x[\"e\"] = 342.4 # Can add a new element in dictionary\n",
        "x"
      ],
      "metadata": {
        "colab": {
          "base_uri": "https://localhost:8080/"
        },
        "id": "fKUrTS-YBMxY",
        "outputId": "7fb901a3-5b25-4bdc-ee9b-b6edf615170e"
      },
      "execution_count": 84,
      "outputs": [
        {
          "output_type": "execute_result",
          "data": {
            "text/plain": [
              "{'a': [21, 4, 'Prem'],\n",
              " 'b': {1: 23, 2: 45.5},\n",
              " 'c': {1, 2, 3, 4, 5},\n",
              " 'd': (1, 2.2, 3, 3, 4, 5),\n",
              " 'e': 342.4}"
            ]
          },
          "metadata": {},
          "execution_count": 84
        }
      ]
    },
    {
      "cell_type": "code",
      "source": [
        "x[\"b\"] = 45 #  can Change the value using key\n",
        "x"
      ],
      "metadata": {
        "colab": {
          "base_uri": "https://localhost:8080/"
        },
        "id": "v9HYDRrF7Ai7",
        "outputId": "0a749a58-e022-409f-98d5-41010765a945"
      },
      "execution_count": 85,
      "outputs": [
        {
          "output_type": "execute_result",
          "data": {
            "text/plain": [
              "{'a': [21, 4, 'Prem'],\n",
              " 'b': 45,\n",
              " 'c': {1, 2, 3, 4, 5},\n",
              " 'd': (1, 2.2, 3, 3, 4, 5),\n",
              " 'e': 342.4}"
            ]
          },
          "metadata": {},
          "execution_count": 85
        }
      ]
    },
    {
      "cell_type": "code",
      "source": [
        "x.update({\"d\":\"Ranjith\"}) # can change the value using update()\n",
        "x"
      ],
      "metadata": {
        "colab": {
          "base_uri": "https://localhost:8080/"
        },
        "id": "10kisAvX9-mc",
        "outputId": "7e00c3a2-7643-47a4-b08a-a821285b04da"
      },
      "execution_count": 86,
      "outputs": [
        {
          "output_type": "execute_result",
          "data": {
            "text/plain": [
              "{'a': [21, 4, 'Prem'],\n",
              " 'b': 45,\n",
              " 'c': {1, 2, 3, 4, 5},\n",
              " 'd': 'Ranjith',\n",
              " 'e': 342.4}"
            ]
          },
          "metadata": {},
          "execution_count": 86
        }
      ]
    },
    {
      "cell_type": "code",
      "source": [
        "sorted(x) # sorted() is using only display the keys"
      ],
      "metadata": {
        "colab": {
          "base_uri": "https://localhost:8080/"
        },
        "id": "0urMdUwY7tL3",
        "outputId": "8f382bc1-98ed-42c1-b73c-a2a1c2cf0d4c"
      },
      "execution_count": 87,
      "outputs": [
        {
          "output_type": "execute_result",
          "data": {
            "text/plain": [
              "['a', 'b', 'c', 'd', 'e']"
            ]
          },
          "metadata": {},
          "execution_count": 87
        }
      ]
    },
    {
      "cell_type": "code",
      "source": [
        "x.pop(\"a\") # delete the value using key\n",
        "x"
      ],
      "metadata": {
        "colab": {
          "base_uri": "https://localhost:8080/"
        },
        "id": "IDywdzeE7mJQ",
        "outputId": "cb496fe7-7a88-4e12-de3a-4189e412db21"
      },
      "execution_count": 88,
      "outputs": [
        {
          "output_type": "execute_result",
          "data": {
            "text/plain": [
              "{'b': 45, 'c': {1, 2, 3, 4, 5}, 'd': 'Ranjith', 'e': 342.4}"
            ]
          },
          "metadata": {},
          "execution_count": 88
        }
      ]
    },
    {
      "cell_type": "code",
      "source": [
        "x.popitem() # delete last key & value\n",
        "x"
      ],
      "metadata": {
        "colab": {
          "base_uri": "https://localhost:8080/"
        },
        "id": "iNzDBdpH-pEt",
        "outputId": "6d20f6d6-0745-4c72-f767-ab6fd347a53a"
      },
      "execution_count": 89,
      "outputs": [
        {
          "output_type": "execute_result",
          "data": {
            "text/plain": [
              "{'b': 45, 'c': {1, 2, 3, 4, 5}, 'd': 'Ranjith'}"
            ]
          },
          "metadata": {},
          "execution_count": 89
        }
      ]
    },
    {
      "cell_type": "code",
      "source": [
        "x.clear() # delete all items in the Dictionary\n",
        "x"
      ],
      "metadata": {
        "colab": {
          "base_uri": "https://localhost:8080/"
        },
        "id": "NbDiWVVJ-tes",
        "outputId": "7e32cf12-147d-4634-fafe-03b5e0c4cf91"
      },
      "execution_count": 90,
      "outputs": [
        {
          "output_type": "execute_result",
          "data": {
            "text/plain": [
              "{}"
            ]
          },
          "metadata": {},
          "execution_count": 90
        }
      ]
    },
    {
      "cell_type": "code",
      "source": [
        "del(x) # delete entire dictionary permanantly"
      ],
      "metadata": {
        "id": "5kADvbDh_0mJ"
      },
      "execution_count": 91,
      "outputs": []
    },
    {
      "cell_type": "code",
      "source": [
        "x"
      ],
      "metadata": {
        "colab": {
          "base_uri": "https://localhost:8080/",
          "height": 175
        },
        "id": "TIlOiKo3AYJN",
        "outputId": "28fefaf1-248c-47e7-a9aa-e657eb70485e"
      },
      "execution_count": 92,
      "outputs": [
        {
          "output_type": "error",
          "ename": "NameError",
          "evalue": "ignored",
          "traceback": [
            "\u001b[0;31m---------------------------------------------------------------------------\u001b[0m",
            "\u001b[0;31mNameError\u001b[0m                                 Traceback (most recent call last)",
            "\u001b[0;32m<ipython-input-92-6fcf9dfbd479>\u001b[0m in \u001b[0;36m<cell line: 1>\u001b[0;34m()\u001b[0m\n\u001b[0;32m----> 1\u001b[0;31m \u001b[0mx\u001b[0m\u001b[0;34m\u001b[0m\u001b[0;34m\u001b[0m\u001b[0m\n\u001b[0m",
            "\u001b[0;31mNameError\u001b[0m: name 'x' is not defined"
          ]
        }
      ]
    }
  ]
}